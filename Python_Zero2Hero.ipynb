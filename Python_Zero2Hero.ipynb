{
 "cells": [
  {
   "cell_type": "markdown",
   "metadata": {},
   "source": [
    "# Print Statement"
   ]
  },
  {
   "cell_type": "code",
   "execution_count": 1,
   "metadata": {},
   "outputs": [
    {
     "name": "stdout",
     "output_type": "stream",
     "text": [
      "Hello World!\n"
     ]
    }
   ],
   "source": [
    "print(\"Hello World!\")"
   ]
  },
  {
   "cell_type": "code",
   "execution_count": 1,
   "metadata": {},
   "outputs": [
    {
     "name": "stdout",
     "output_type": "stream",
     "text": [
      "Hello World!\n"
     ]
    }
   ],
   "source": [
    "print(\"Hello World!\")"
   ]
  },
  {
   "cell_type": "markdown",
   "metadata": {},
   "source": [
    "# Variables"
   ]
  },
  {
   "cell_type": "markdown",
   "metadata": {},
   "source": [
    "### Conventions"
   ]
  },
  {
   "cell_type": "markdown",
   "metadata": {},
   "source": [
    "###### Variable names cannot be enclosed"
   ]
  },
  {
   "cell_type": "markdown",
   "metadata": {},
   "source": [
    "###### they cannot be ONLY python keywords"
   ]
  },
  {
   "cell_type": "markdown",
   "metadata": {},
   "source": [
    "###### they cannot be spaced"
   ]
  },
  {
   "cell_type": "markdown",
   "metadata": {},
   "source": [
    "###### They cannot be ONLY numbers"
   ]
  },
  {
   "cell_type": "markdown",
   "metadata": {},
   "source": [
    "###### Number cannot come first in the variable name"
   ]
  },
  {
   "cell_type": "markdown",
   "metadata": {},
   "source": [
    "###### Variable name can contain only letters, numbers, and underscores"
   ]
  },
  {
   "cell_type": "markdown",
   "metadata": {},
   "source": [
    "###### Beware of Capital letters ---> Rose =! rose"
   ]
  },
  {
   "cell_type": "markdown",
   "metadata": {},
   "source": [
    "###### Use of Underscore for breaking up variable words ---> for readablility "
   ]
  },
  {
   "cell_type": "code",
   "execution_count": null,
   "metadata": {},
   "outputs": [],
   "source": [
    "# [variable_name]  -- wrong method\n",
    "# variable = 123  -- wrong method\n",
    "# var iable 123 = -- wrong method\n",
    "# 1234 = -- wrong method\n",
    "# 1234variable = --wrong method\n",
    "# "
   ]
  },
  {
   "cell_type": "markdown",
   "metadata": {},
   "source": [
    "### Strings or text strings"
   ]
  },
  {
   "cell_type": "code",
   "execution_count": 2,
   "metadata": {},
   "outputs": [],
   "source": [
    "text = \"Hello, World!\""
   ]
  },
  {
   "cell_type": "code",
   "execution_count": 3,
   "metadata": {},
   "outputs": [
    {
     "name": "stdout",
     "output_type": "stream",
     "text": [
      "Hello, World!\n"
     ]
    }
   ],
   "source": [
    "print(text)"
   ]
  },
  {
   "cell_type": "code",
   "execution_count": 4,
   "metadata": {},
   "outputs": [],
   "source": [
    "text = \"overwrite\"   # overwriting variable value"
   ]
  },
  {
   "cell_type": "code",
   "execution_count": 5,
   "metadata": {},
   "outputs": [
    {
     "name": "stdout",
     "output_type": "stream",
     "text": [
      "overwrite\n"
     ]
    }
   ],
   "source": [
    "print(text)"
   ]
  },
  {
   "cell_type": "code",
   "execution_count": null,
   "metadata": {},
   "outputs": [],
   "source": []
  },
  {
   "cell_type": "code",
   "execution_count": null,
   "metadata": {},
   "outputs": [],
   "source": []
  },
  {
   "cell_type": "markdown",
   "metadata": {},
   "source": [
    "### Numbers"
   ]
  },
  {
   "cell_type": "code",
   "execution_count": 6,
   "metadata": {},
   "outputs": [],
   "source": [
    "numbers = 150"
   ]
  },
  {
   "cell_type": "code",
   "execution_count": 7,
   "metadata": {},
   "outputs": [
    {
     "name": "stdout",
     "output_type": "stream",
     "text": [
      "150\n"
     ]
    }
   ],
   "source": [
    "print(numbers)"
   ]
  },
  {
   "cell_type": "code",
   "execution_count": 8,
   "metadata": {},
   "outputs": [
    {
     "data": {
      "text/plain": [
       "175"
      ]
     },
     "execution_count": 8,
     "metadata": {},
     "output_type": "execute_result"
    }
   ],
   "source": [
    "numbers + 25"
   ]
  },
  {
   "cell_type": "code",
   "execution_count": 9,
   "metadata": {},
   "outputs": [],
   "source": [
    "added_numbers = numbers + 25"
   ]
  },
  {
   "cell_type": "code",
   "execution_count": 10,
   "metadata": {},
   "outputs": [
    {
     "name": "stdout",
     "output_type": "stream",
     "text": [
      "175\n"
     ]
    }
   ],
   "source": [
    "print(added_numbers)"
   ]
  },
  {
   "cell_type": "code",
   "execution_count": 11,
   "metadata": {},
   "outputs": [],
   "source": [
    "new_num = numbers + added_numbers"
   ]
  },
  {
   "cell_type": "code",
   "execution_count": 12,
   "metadata": {},
   "outputs": [
    {
     "name": "stdout",
     "output_type": "stream",
     "text": [
      "325\n"
     ]
    }
   ],
   "source": [
    "print(new_num)"
   ]
  },
  {
   "cell_type": "code",
   "execution_count": 13,
   "metadata": {},
   "outputs": [],
   "source": [
    "numbers = numbers + 50"
   ]
  },
  {
   "cell_type": "code",
   "execution_count": 14,
   "metadata": {},
   "outputs": [
    {
     "name": "stdout",
     "output_type": "stream",
     "text": [
      "200\n"
     ]
    }
   ],
   "source": [
    "print(numbers)"
   ]
  },
  {
   "cell_type": "code",
   "execution_count": 15,
   "metadata": {},
   "outputs": [],
   "source": [
    "float_variable = 1.0000000009"
   ]
  },
  {
   "cell_type": "code",
   "execution_count": 16,
   "metadata": {},
   "outputs": [
    {
     "name": "stdout",
     "output_type": "stream",
     "text": [
      "1.0000000009\n"
     ]
    }
   ],
   "source": [
    "print(float_variable)"
   ]
  },
  {
   "cell_type": "markdown",
   "metadata": {},
   "source": [
    "### Math Expressions : Familiar Operators"
   ]
  },
  {
   "cell_type": "markdown",
   "metadata": {},
   "source": [
    "###### + (add)"
   ]
  },
  {
   "cell_type": "markdown",
   "metadata": {},
   "source": [
    "###### - (subtract)"
   ]
  },
  {
   "cell_type": "markdown",
   "metadata": {},
   "source": [
    "###### * (multiply) "
   ]
  },
  {
   "cell_type": "markdown",
   "metadata": {},
   "source": [
    "###### / (divide)   --------->  division gives answer in float"
   ]
  },
  {
   "cell_type": "code",
   "execution_count": 17,
   "metadata": {},
   "outputs": [],
   "source": [
    "ex_num = 4"
   ]
  },
  {
   "cell_type": "code",
   "execution_count": 18,
   "metadata": {},
   "outputs": [
    {
     "name": "stdout",
     "output_type": "stream",
     "text": [
      "4\n"
     ]
    }
   ],
   "source": [
    "print(ex_num)"
   ]
  },
  {
   "cell_type": "code",
   "execution_count": 19,
   "metadata": {},
   "outputs": [],
   "source": [
    "ex_num_add = 2 + 2   # addition example"
   ]
  },
  {
   "cell_type": "code",
   "execution_count": 20,
   "metadata": {},
   "outputs": [
    {
     "name": "stdout",
     "output_type": "stream",
     "text": [
      "4\n"
     ]
    }
   ],
   "source": [
    "print(ex_num_add)"
   ]
  },
  {
   "cell_type": "code",
   "execution_count": 21,
   "metadata": {},
   "outputs": [
    {
     "name": "stdout",
     "output_type": "stream",
     "text": [
      "4\n"
     ]
    }
   ],
   "source": [
    "print(2 + 2)"
   ]
  },
  {
   "cell_type": "code",
   "execution_count": 22,
   "metadata": {},
   "outputs": [],
   "source": [
    "loss = 12 - 24    # assigning negative values"
   ]
  },
  {
   "cell_type": "code",
   "execution_count": 23,
   "metadata": {},
   "outputs": [
    {
     "name": "stdout",
     "output_type": "stream",
     "text": [
      "-12\n"
     ]
    }
   ],
   "source": [
    "print(loss)"
   ]
  },
  {
   "cell_type": "code",
   "execution_count": 24,
   "metadata": {},
   "outputs": [],
   "source": [
    "ex_num_mul = 3 * 2  # multiply example"
   ]
  },
  {
   "cell_type": "code",
   "execution_count": 25,
   "metadata": {},
   "outputs": [
    {
     "name": "stdout",
     "output_type": "stream",
     "text": [
      "6\n"
     ]
    }
   ],
   "source": [
    "print(ex_num_mul)"
   ]
  },
  {
   "cell_type": "code",
   "execution_count": 26,
   "metadata": {},
   "outputs": [],
   "source": [
    "ex_num_div = 6 / 2  # division example"
   ]
  },
  {
   "cell_type": "code",
   "execution_count": 27,
   "metadata": {},
   "outputs": [
    {
     "name": "stdout",
     "output_type": "stream",
     "text": [
      "3.0\n"
     ]
    }
   ],
   "source": [
    "print(ex_num_div)   "
   ]
  },
  {
   "cell_type": "code",
   "execution_count": 28,
   "metadata": {},
   "outputs": [],
   "source": [
    "float_ex = 0.75"
   ]
  },
  {
   "cell_type": "code",
   "execution_count": 29,
   "metadata": {},
   "outputs": [],
   "source": [
    "float_add_ex = float_ex + 200 "
   ]
  },
  {
   "cell_type": "code",
   "execution_count": 30,
   "metadata": {},
   "outputs": [
    {
     "name": "stdout",
     "output_type": "stream",
     "text": [
      "200.75\n"
     ]
    }
   ],
   "source": [
    "print(float_add_ex)"
   ]
  },
  {
   "cell_type": "code",
   "execution_count": 31,
   "metadata": {},
   "outputs": [],
   "source": [
    "total_float = ex_num + float_ex"
   ]
  },
  {
   "cell_type": "code",
   "execution_count": 32,
   "metadata": {},
   "outputs": [
    {
     "name": "stdout",
     "output_type": "stream",
     "text": [
      "4.75\n"
     ]
    }
   ],
   "source": [
    "print(total_float)"
   ]
  },
  {
   "cell_type": "code",
   "execution_count": 1,
   "metadata": {},
   "outputs": [
    {
     "data": {
      "text/plain": [
       "3.0"
      ]
     },
     "execution_count": 1,
     "metadata": {},
     "output_type": "execute_result"
    }
   ],
   "source": [
    "float1 = 1.5 + 1.5\n",
    "float1   # Always float answer"
   ]
  },
  {
   "cell_type": "markdown",
   "metadata": {},
   "source": [
    "### Math Expressions : Unfamiliar Operators"
   ]
  },
  {
   "cell_type": "markdown",
   "metadata": {},
   "source": [
    "###### % (Modulus)   --> Remainder"
   ]
  },
  {
   "cell_type": "markdown",
   "metadata": {},
   "source": [
    "###### += (Increment)"
   ]
  },
  {
   "cell_type": "markdown",
   "metadata": {},
   "source": [
    "###### -= (decrement)"
   ]
  },
  {
   "cell_type": "markdown",
   "metadata": {},
   "source": [
    "###### *= (multiple)"
   ]
  },
  {
   "cell_type": "markdown",
   "metadata": {},
   "source": [
    "###### /= (division)"
   ]
  },
  {
   "cell_type": "markdown",
   "metadata": {},
   "source": [
    "###### initial += inc_amount --> variable usage"
   ]
  },
  {
   "cell_type": "markdown",
   "metadata": {},
   "source": [
    "###### ==  (comparsion)"
   ]
  },
  {
   "cell_type": "markdown",
   "metadata": {},
   "source": [
    "###### = (assignment)"
   ]
  },
  {
   "cell_type": "code",
   "execution_count": 33,
   "metadata": {},
   "outputs": [],
   "source": [
    "remainder = 9%3 "
   ]
  },
  {
   "cell_type": "code",
   "execution_count": 34,
   "metadata": {},
   "outputs": [
    {
     "name": "stdout",
     "output_type": "stream",
     "text": [
      "0\n"
     ]
    }
   ],
   "source": [
    "print(remainder)"
   ]
  },
  {
   "cell_type": "code",
   "execution_count": 35,
   "metadata": {},
   "outputs": [],
   "source": [
    "age = 20 "
   ]
  },
  {
   "cell_type": "code",
   "execution_count": 36,
   "metadata": {},
   "outputs": [],
   "source": [
    "age = age + 1"
   ]
  },
  {
   "cell_type": "code",
   "execution_count": 37,
   "metadata": {},
   "outputs": [
    {
     "name": "stdout",
     "output_type": "stream",
     "text": [
      "21\n"
     ]
    }
   ],
   "source": [
    "print(age)"
   ]
  },
  {
   "cell_type": "code",
   "execution_count": 38,
   "metadata": {},
   "outputs": [],
   "source": [
    "age += 1"
   ]
  },
  {
   "cell_type": "code",
   "execution_count": 39,
   "metadata": {},
   "outputs": [
    {
     "name": "stdout",
     "output_type": "stream",
     "text": [
      "22\n"
     ]
    }
   ],
   "source": [
    "print(age)"
   ]
  },
  {
   "cell_type": "code",
   "execution_count": 40,
   "metadata": {},
   "outputs": [],
   "source": [
    "cost = 200"
   ]
  },
  {
   "cell_type": "code",
   "execution_count": 41,
   "metadata": {},
   "outputs": [],
   "source": [
    "cost -= 20"
   ]
  },
  {
   "cell_type": "code",
   "execution_count": 42,
   "metadata": {},
   "outputs": [
    {
     "name": "stdout",
     "output_type": "stream",
     "text": [
      "180\n"
     ]
    }
   ],
   "source": [
    "print(cost)"
   ]
  },
  {
   "cell_type": "code",
   "execution_count": 43,
   "metadata": {},
   "outputs": [],
   "source": [
    "dozens = 3"
   ]
  },
  {
   "cell_type": "code",
   "execution_count": 44,
   "metadata": {},
   "outputs": [],
   "source": [
    "dozens *= 12"
   ]
  },
  {
   "cell_type": "code",
   "execution_count": 45,
   "metadata": {},
   "outputs": [
    {
     "name": "stdout",
     "output_type": "stream",
     "text": [
      "36\n"
     ]
    }
   ],
   "source": [
    "print(dozens)"
   ]
  },
  {
   "cell_type": "code",
   "execution_count": 46,
   "metadata": {},
   "outputs": [],
   "source": [
    "dozens /= 3"
   ]
  },
  {
   "cell_type": "code",
   "execution_count": 47,
   "metadata": {},
   "outputs": [
    {
     "name": "stdout",
     "output_type": "stream",
     "text": [
      "12.0\n"
     ]
    }
   ],
   "source": [
    "print(dozens)"
   ]
  },
  {
   "cell_type": "code",
   "execution_count": 48,
   "metadata": {},
   "outputs": [],
   "source": [
    "discount = 20"
   ]
  },
  {
   "cell_type": "code",
   "execution_count": 49,
   "metadata": {},
   "outputs": [
    {
     "data": {
      "text/plain": [
       "180"
      ]
     },
     "execution_count": 49,
     "metadata": {},
     "output_type": "execute_result"
    }
   ],
   "source": [
    "cost "
   ]
  },
  {
   "cell_type": "code",
   "execution_count": 50,
   "metadata": {},
   "outputs": [
    {
     "data": {
      "text/plain": [
       "160"
      ]
     },
     "execution_count": 50,
     "metadata": {},
     "output_type": "execute_result"
    }
   ],
   "source": [
    "cost -= discount\n",
    "cost"
   ]
  },
  {
   "cell_type": "markdown",
   "metadata": {},
   "source": [
    "### Eliminating Ambiguity"
   ]
  },
  {
   "cell_type": "markdown",
   "metadata": {},
   "source": [
    "###### USE PARENTHESIS"
   ]
  },
  {
   "cell_type": "markdown",
   "metadata": {},
   "source": [
    "### Concatenation of Strings"
   ]
  },
  {
   "cell_type": "markdown",
   "metadata": {},
   "source": [
    "###### USE (+) to concatenate ------> attachment from end"
   ]
  },
  {
   "cell_type": "code",
   "execution_count": 20,
   "metadata": {},
   "outputs": [],
   "source": [
    "first_name = \"Muhammad\""
   ]
  },
  {
   "cell_type": "code",
   "execution_count": 19,
   "metadata": {},
   "outputs": [],
   "source": [
    "last_name = \"Haris\""
   ]
  },
  {
   "cell_type": "code",
   "execution_count": 21,
   "metadata": {},
   "outputs": [],
   "source": [
    "full_name = first_name + \" \" + last_name"
   ]
  },
  {
   "cell_type": "code",
   "execution_count": 22,
   "metadata": {},
   "outputs": [
    {
     "name": "stdout",
     "output_type": "stream",
     "text": [
      "Muhammad Haris\n"
     ]
    }
   ],
   "source": [
    "print(full_name)"
   ]
  },
  {
   "cell_type": "markdown",
   "metadata": {},
   "source": [
    "###### Numbers and Strings cannot be concatenated together"
   ]
  },
  {
   "cell_type": "code",
   "execution_count": 55,
   "metadata": {},
   "outputs": [],
   "source": [
    "currency_amount = \"200\" "
   ]
  },
  {
   "cell_type": "code",
   "execution_count": 56,
   "metadata": {},
   "outputs": [],
   "source": [
    "currency_symbol = \"PKR\""
   ]
  },
  {
   "cell_type": "code",
   "execution_count": 57,
   "metadata": {},
   "outputs": [],
   "source": [
    "currency = currency_symbol + \" \" + currency_amount "
   ]
  },
  {
   "cell_type": "code",
   "execution_count": 58,
   "metadata": {},
   "outputs": [
    {
     "name": "stdout",
     "output_type": "stream",
     "text": [
      "PKR 200\n"
     ]
    }
   ],
   "source": [
    "print(currency)"
   ]
  },
  {
   "cell_type": "markdown",
   "metadata": {},
   "source": [
    "### IF Statements"
   ]
  },
  {
   "cell_type": "code",
   "execution_count": 59,
   "metadata": {},
   "outputs": [],
   "source": [
    "animal = \"cat\""
   ]
  },
  {
   "cell_type": "code",
   "execution_count": 60,
   "metadata": {},
   "outputs": [
    {
     "name": "stdout",
     "output_type": "stream",
     "text": [
      "cat is an animal\n"
     ]
    }
   ],
   "source": [
    "if animal == \"cat\":\n",
    "    status = \"ok\"\n",
    "    kingdom = \"animal\"\n",
    "    print(\"cat is an animal\")\n",
    "    "
   ]
  },
  {
   "cell_type": "code",
   "execution_count": 61,
   "metadata": {},
   "outputs": [
    {
     "name": "stdout",
     "output_type": "stream",
     "text": [
      "ok\n"
     ]
    }
   ],
   "source": [
    "print(status)"
   ]
  },
  {
   "cell_type": "markdown",
   "metadata": {},
   "source": [
    "### Comparison Operator "
   ]
  },
  {
   "cell_type": "markdown",
   "metadata": {},
   "source": [
    "###### == (equality comparison)"
   ]
  },
  {
   "cell_type": "markdown",
   "metadata": {},
   "source": [
    "###### != (inequality comparison)"
   ]
  },
  {
   "cell_type": "markdown",
   "metadata": {},
   "source": [
    "###### > (greater comparison)"
   ]
  },
  {
   "cell_type": "markdown",
   "metadata": {},
   "source": [
    "######  < (lesser comparison)"
   ]
  },
  {
   "cell_type": "markdown",
   "metadata": {},
   "source": [
    "###### >= (greater than equals to)"
   ]
  },
  {
   "cell_type": "markdown",
   "metadata": {},
   "source": [
    "###### <= (lesser than equals to)"
   ]
  },
  {
   "cell_type": "code",
   "execution_count": 62,
   "metadata": {},
   "outputs": [],
   "source": [
    "animal = \"cat\" "
   ]
  },
  {
   "cell_type": "code",
   "execution_count": 63,
   "metadata": {},
   "outputs": [
    {
     "name": "stdout",
     "output_type": "stream",
     "text": [
      "cat is an animal\n"
     ]
    }
   ],
   "source": [
    "if animal == \"cat\":\n",
    "    print(\"cat is an animal\")"
   ]
  },
  {
   "cell_type": "code",
   "execution_count": 64,
   "metadata": {},
   "outputs": [
    {
     "name": "stdout",
     "output_type": "stream",
     "text": [
      "python is idiot\n"
     ]
    }
   ],
   "source": [
    "if animal != \"dog\":\n",
    "    print(\"python is idiot\")"
   ]
  },
  {
   "cell_type": "code",
   "execution_count": 65,
   "metadata": {},
   "outputs": [
    {
     "name": "stdout",
     "output_type": "stream",
     "text": [
      "python knows maths\n"
     ]
    }
   ],
   "source": [
    "if 6 > 2:\n",
    "    print(\"python knows maths\")"
   ]
  },
  {
   "cell_type": "code",
   "execution_count": 66,
   "metadata": {},
   "outputs": [
    {
     "name": "stdout",
     "output_type": "stream",
     "text": [
      "python knows maths\n"
     ]
    }
   ],
   "source": [
    "if 6 < 8:\n",
    "    print(\"python knows maths\")"
   ]
  },
  {
   "cell_type": "code",
   "execution_count": 67,
   "metadata": {},
   "outputs": [
    {
     "name": "stdout",
     "output_type": "stream",
     "text": [
      "python knows maths\n"
     ]
    }
   ],
   "source": [
    "if 6 >= 5:\n",
    "    print(\"python knows maths\")"
   ]
  },
  {
   "cell_type": "code",
   "execution_count": 68,
   "metadata": {},
   "outputs": [
    {
     "name": "stdout",
     "output_type": "stream",
     "text": [
      "python knows maths\n"
     ]
    }
   ],
   "source": [
    "if 6 >= 6:\n",
    "    print(\"python knows maths\")"
   ]
  },
  {
   "cell_type": "code",
   "execution_count": 69,
   "metadata": {},
   "outputs": [
    {
     "name": "stdout",
     "output_type": "stream",
     "text": [
      "python knows maths\n"
     ]
    }
   ],
   "source": [
    "if 6 <= 8:\n",
    "    print(\"python knows maths\")"
   ]
  },
  {
   "cell_type": "code",
   "execution_count": 70,
   "metadata": {},
   "outputs": [
    {
     "name": "stdout",
     "output_type": "stream",
     "text": [
      "python knows maths\n"
     ]
    }
   ],
   "source": [
    "if 6 >= 6:\n",
    "    print(\"python knows maths\")"
   ]
  },
  {
   "cell_type": "markdown",
   "metadata": {},
   "source": [
    "### else and elif Statements"
   ]
  },
  {
   "cell_type": "markdown",
   "metadata": {},
   "source": [
    "###### if you want only one test"
   ]
  },
  {
   "cell_type": "code",
   "execution_count": 71,
   "metadata": {},
   "outputs": [
    {
     "name": "stdout",
     "output_type": "stream",
     "text": [
      "cat is an animal\n"
     ]
    }
   ],
   "source": [
    "if animal != \"cat\":\n",
    "    print(\"python shocks\")\n",
    "#elif animal == \"cheetah\":           # elif works if test before it fails\n",
    "   # print(\"python is an idiot\")     # if elif passes then tests after it will be ignored\n",
    "else:\n",
    "    print(\"cat is an animal\")\n",
    "        "
   ]
  },
  {
   "cell_type": "markdown",
   "metadata": {},
   "source": [
    "###### if you want more than one test"
   ]
  },
  {
   "cell_type": "code",
   "execution_count": 72,
   "metadata": {},
   "outputs": [],
   "source": [
    "toffee_reward = 0\n",
    "python_test_marks = 90\n",
    "numpy_test_marks = 90\n",
    "pandas_test_marks = 90\n",
    "\n",
    "\n",
    "if python_test_marks >= 90:\n",
    "    toffee_reward += 10\n",
    "if numpy_test_marks  >= 90:\n",
    "    toffee_reward += 20\n",
    "if pandas_test_marks >= 90:\n",
    "    toffee_reward += 50"
   ]
  },
  {
   "cell_type": "code",
   "execution_count": 73,
   "metadata": {},
   "outputs": [
    {
     "name": "stdout",
     "output_type": "stream",
     "text": [
      "80\n"
     ]
    }
   ],
   "source": [
    "print(toffee_reward)"
   ]
  },
  {
   "cell_type": "markdown",
   "metadata": {},
   "source": [
    "### and Condition"
   ]
  },
  {
   "cell_type": "markdown",
   "metadata": {},
   "source": [
    "###### One can use unlimited and / or conditions in an if statement"
   ]
  },
  {
   "cell_type": "markdown",
   "metadata": {},
   "source": [
    "###### when two conditions MUST be satisfied in order to pass the test"
   ]
  },
  {
   "cell_type": "code",
   "execution_count": 1,
   "metadata": {},
   "outputs": [
    {
     "name": "stdout",
     "output_type": "stream",
     "text": [
      "Hire Him!\n"
     ]
    }
   ],
   "source": [
    "per = 81\n",
    "gpa = 3.71\n",
    "\n",
    "if per >= 80 and gpa >= 3.7:\n",
    "    print(\"Hire Him!\")"
   ]
  },
  {
   "cell_type": "markdown",
   "metadata": {},
   "source": [
    "### or Condition"
   ]
  },
  {
   "cell_type": "markdown",
   "metadata": {},
   "source": [
    "###### when either of the condition MUST be satisfied in order to pass the test"
   ]
  },
  {
   "cell_type": "code",
   "execution_count": 3,
   "metadata": {},
   "outputs": [
    {
     "name": "stdout",
     "output_type": "stream",
     "text": [
      "At least one desearves a try!\n"
     ]
    }
   ],
   "source": [
    "experienced = True\n",
    "salary_demand = 50000\n",
    "\n",
    "if experienced == True or salary_demand == 50000:\n",
    "    print(\"At least one desearves a try!\")"
   ]
  },
  {
   "cell_type": "markdown",
   "metadata": {},
   "source": [
    "### and + or Conditions"
   ]
  },
  {
   "cell_type": "markdown",
   "metadata": {},
   "source": [
    "###### Use Parenthesis to avoid ambiguity(confusion)"
   ]
  },
  {
   "cell_type": "code",
   "execution_count": 5,
   "metadata": {},
   "outputs": [
    {
     "name": "stdout",
     "output_type": "stream",
     "text": [
      "Go for it!\n"
     ]
    }
   ],
   "source": [
    "if (experienced == True or creative == True) and salary_demand == 50000:\n",
    "    print(\"Go for it!\")"
   ]
  },
  {
   "cell_type": "markdown",
   "metadata": {},
   "source": [
    "### if statements nested"
   ]
  },
  {
   "cell_type": "code",
   "execution_count": 4,
   "metadata": {},
   "outputs": [],
   "source": [
    "c = d = 8     # focus on this line\n",
    "x = y = 9\n",
    "h = []\n",
    "e = []\n",
    "f = 235\n",
    "if c == d:\n",
    "    if x == y:\n",
    "        g = h\n",
    "    elif a == b:\n",
    "        g = h\n",
    "    else:\n",
    "        e = t\n",
    "else:\n",
    "    e = f"
   ]
  },
  {
   "cell_type": "code",
   "execution_count": 5,
   "metadata": {},
   "outputs": [
    {
     "data": {
      "text/plain": [
       "[]"
      ]
     },
     "execution_count": 5,
     "metadata": {},
     "output_type": "execute_result"
    }
   ],
   "source": [
    "e"
   ]
  },
  {
   "cell_type": "code",
   "execution_count": 79,
   "metadata": {},
   "outputs": [],
   "source": [
    "c = 5        # focus on this line\n",
    "d = 8\n",
    "x = y = 9\n",
    "h = []\n",
    "e = []\n",
    "f = 235\n",
    "if c == d:\n",
    "    if x == y:\n",
    "        g = h\n",
    "    elif a == b:\n",
    "        g = h\n",
    "    else:\n",
    "        e = t\n",
    "else:\n",
    "    e = f"
   ]
  },
  {
   "cell_type": "code",
   "execution_count": 80,
   "metadata": {},
   "outputs": [
    {
     "data": {
      "text/plain": [
       "235"
      ]
     },
     "execution_count": 80,
     "metadata": {},
     "output_type": "execute_result"
    }
   ],
   "source": [
    "e"
   ]
  },
  {
   "cell_type": "markdown",
   "metadata": {},
   "source": [
    "### comments"
   ]
  },
  {
   "cell_type": "code",
   "execution_count": 81,
   "metadata": {},
   "outputs": [],
   "source": [
    "# makes comment in python, that will not be treated as a code"
   ]
  },
  {
   "cell_type": "code",
   "execution_count": 82,
   "metadata": {},
   "outputs": [
    {
     "data": {
      "text/plain": [
       "'\\nfor multiple lines comments\\nfor multiple lines comments\\nfor multiple lines comments\\nfor multiple lines comments\\n'"
      ]
     },
     "execution_count": 82,
     "metadata": {},
     "output_type": "execute_result"
    }
   ],
   "source": [
    "'''\n",
    "for multiple lines comments\n",
    "for multiple lines comments\n",
    "for multiple lines comments\n",
    "for multiple lines comments\n",
    "'''"
   ]
  },
  {
   "cell_type": "markdown",
   "metadata": {},
   "source": [
    "### lists "
   ]
  },
  {
   "cell_type": "markdown",
   "metadata": {},
   "source": [
    "###### initialize by large bracks = [                             ]"
   ]
  },
  {
   "cell_type": "markdown",
   "metadata": {},
   "source": [
    "###### lists are hetrogenous"
   ]
  },
  {
   "cell_type": "markdown",
   "metadata": {},
   "source": [
    "###### (,) seperator"
   ]
  },
  {
   "cell_type": "markdown",
   "metadata": {},
   "source": [
    "###### index always starts from (0)"
   ]
  },
  {
   "cell_type": "markdown",
   "metadata": {},
   "source": [
    "###### 5th element of the list will have index 4  (index = (position. of element) - 1)"
   ]
  },
  {
   "cell_type": "markdown",
   "metadata": {},
   "source": [
    "###### use list names in plural forms"
   ]
  },
  {
   "cell_type": "code",
   "execution_count": null,
   "metadata": {},
   "outputs": [],
   "source": []
  },
  {
   "cell_type": "code",
   "execution_count": 24,
   "metadata": {},
   "outputs": [],
   "source": [
    "subjects = [\"maths\",\"english\",\"computer science\", \"finance\"]"
   ]
  },
  {
   "cell_type": "code",
   "execution_count": 25,
   "metadata": {},
   "outputs": [
    {
     "name": "stdout",
     "output_type": "stream",
     "text": [
      "['maths', 'english', 'computer science', 'finance']\n"
     ]
    }
   ],
   "source": [
    "print(subjects)"
   ]
  },
  {
   "cell_type": "code",
   "execution_count": 26,
   "metadata": {},
   "outputs": [
    {
     "name": "stdout",
     "output_type": "stream",
     "text": [
      "maths\n"
     ]
    }
   ],
   "source": [
    "print(subjects[0])"
   ]
  },
  {
   "cell_type": "markdown",
   "metadata": {},
   "source": [
    "### Adding and changing lists"
   ]
  },
  {
   "cell_type": "markdown",
   "metadata": {},
   "source": [
    "###### list[index] = new value"
   ]
  },
  {
   "cell_type": "markdown",
   "metadata": {},
   "source": [
    "###### list.append(value)     ---> for single item and joins from the end"
   ]
  },
  {
   "cell_type": "markdown",
   "metadata": {},
   "source": [
    "###### list_variable + list  ---> for multiple item"
   ]
  },
  {
   "cell_type": "markdown",
   "metadata": {},
   "source": [
    "###### list.insert(index, value) --> joins from anywhere with respect to index "
   ]
  },
  {
   "cell_type": "code",
   "execution_count": 27,
   "metadata": {},
   "outputs": [],
   "source": [
    "subjects[3] = \"Engineering\"    # changing lists\n",
    "                             # index takes [position number]"
   ]
  },
  {
   "cell_type": "code",
   "execution_count": 28,
   "metadata": {},
   "outputs": [
    {
     "data": {
      "text/plain": [
       "['maths', 'english', 'computer science', 'Engineering']"
      ]
     },
     "execution_count": 28,
     "metadata": {},
     "output_type": "execute_result"
    }
   ],
   "source": [
    "subjects"
   ]
  },
  {
   "cell_type": "code",
   "execution_count": 30,
   "metadata": {},
   "outputs": [],
   "source": [
    "subjects.append(\"Statistics\")   # to add single item to list\n",
    "                                # append takes (value) \n",
    "                                 # joins from the end"
   ]
  },
  {
   "cell_type": "code",
   "execution_count": 31,
   "metadata": {},
   "outputs": [
    {
     "name": "stdout",
     "output_type": "stream",
     "text": [
      "['maths', 'english', 'computer science', 'Engineering', 'economics', 'Statistics']\n"
     ]
    }
   ],
   "source": [
    "print(subjects)"
   ]
  },
  {
   "cell_type": "code",
   "execution_count": 32,
   "metadata": {},
   "outputs": [],
   "source": [
    "qualifications = [\"matric\" , \"inter\"]"
   ]
  },
  {
   "cell_type": "code",
   "execution_count": 33,
   "metadata": {},
   "outputs": [
    {
     "name": "stdout",
     "output_type": "stream",
     "text": [
      "['matric', 'inter']\n"
     ]
    }
   ],
   "source": [
    "print(qualifications)"
   ]
  },
  {
   "cell_type": "code",
   "execution_count": 34,
   "metadata": {},
   "outputs": [],
   "source": [
    "qualifications = qualifications + [\"B.E\" , \"M.Com\"]  # to add multiple items"
   ]
  },
  {
   "cell_type": "code",
   "execution_count": 35,
   "metadata": {},
   "outputs": [
    {
     "name": "stdout",
     "output_type": "stream",
     "text": [
      "['matric', 'inter', 'B.E', 'M.Com']\n"
     ]
    }
   ],
   "source": [
    "print(qualifications)"
   ]
  },
  {
   "cell_type": "code",
   "execution_count": 36,
   "metadata": {},
   "outputs": [],
   "source": [
    "shopping_bag = []"
   ]
  },
  {
   "cell_type": "code",
   "execution_count": 37,
   "metadata": {},
   "outputs": [
    {
     "name": "stdout",
     "output_type": "stream",
     "text": [
      "[]\n"
     ]
    }
   ],
   "source": [
    "print(shopping_bag)"
   ]
  },
  {
   "cell_type": "code",
   "execution_count": 38,
   "metadata": {},
   "outputs": [],
   "source": [
    "shopping_bag = shopping_bag + [\"oranges\",\"apples\"] # to fill empty list"
   ]
  },
  {
   "cell_type": "code",
   "execution_count": 39,
   "metadata": {},
   "outputs": [
    {
     "name": "stdout",
     "output_type": "stream",
     "text": [
      "['oranges', 'apples']\n"
     ]
    }
   ],
   "source": [
    "print(shopping_bag)"
   ]
  },
  {
   "cell_type": "code",
   "execution_count": 40,
   "metadata": {},
   "outputs": [],
   "source": [
    "numbers = [2,3,4,5]"
   ]
  },
  {
   "cell_type": "code",
   "execution_count": 41,
   "metadata": {},
   "outputs": [],
   "source": [
    "numbers.insert(0, 1)     # to insert anywhere in the list according to index"
   ]
  },
  {
   "cell_type": "code",
   "execution_count": 42,
   "metadata": {},
   "outputs": [
    {
     "name": "stdout",
     "output_type": "stream",
     "text": [
      "[1, 2, 3, 4, 5]\n"
     ]
    }
   ],
   "source": [
    "print(numbers)"
   ]
  },
  {
   "cell_type": "code",
   "execution_count": 43,
   "metadata": {},
   "outputs": [],
   "source": [
    "languages = [\"C#\", \"C++\", \"Python\", \"Java\"] "
   ]
  },
  {
   "cell_type": "code",
   "execution_count": 44,
   "metadata": {},
   "outputs": [],
   "source": [
    "languages.insert(3, \"Swift\")"
   ]
  },
  {
   "cell_type": "code",
   "execution_count": 45,
   "metadata": {},
   "outputs": [
    {
     "name": "stdout",
     "output_type": "stream",
     "text": [
      "['C#', 'C++', 'Python', 'Swift', 'Java']\n"
     ]
    }
   ],
   "source": [
    "print(languages)"
   ]
  },
  {
   "cell_type": "code",
   "execution_count": null,
   "metadata": {},
   "outputs": [],
   "source": []
  },
  {
   "cell_type": "markdown",
   "metadata": {},
   "source": [
    "### Slicing"
   ]
  },
  {
   "cell_type": "markdown",
   "metadata": {},
   "source": [
    "###### [ start : end + 1 ] ---> slicing via index "
   ]
  },
  {
   "cell_type": "markdown",
   "metadata": {},
   "source": [
    "###### [start : ] ---> to very end"
   ]
  },
  {
   "cell_type": "markdown",
   "metadata": {},
   "source": [
    "###### [ : end + 1] ---> from the very beginning "
   ]
  },
  {
   "cell_type": "code",
   "execution_count": 104,
   "metadata": {},
   "outputs": [],
   "source": [
    "lang_to_learn = languages[1:4]  # to slice out the list"
   ]
  },
  {
   "cell_type": "code",
   "execution_count": 105,
   "metadata": {},
   "outputs": [
    {
     "name": "stdout",
     "output_type": "stream",
     "text": [
      "['C++', 'Python', 'Swift']\n"
     ]
    }
   ],
   "source": [
    "print(lang_to_learn)"
   ]
  },
  {
   "cell_type": "code",
   "execution_count": 106,
   "metadata": {},
   "outputs": [],
   "source": [
    "seen_lang = languages[:5]  # from the very first element"
   ]
  },
  {
   "cell_type": "code",
   "execution_count": 107,
   "metadata": {},
   "outputs": [
    {
     "name": "stdout",
     "output_type": "stream",
     "text": [
      "['C#', 'C++', 'Python', 'Swift', 'Java']\n"
     ]
    }
   ],
   "source": [
    "print(seen_lang)"
   ]
  },
  {
   "cell_type": "code",
   "execution_count": 108,
   "metadata": {},
   "outputs": [],
   "source": [
    "mobile_lang = languages[3:]   # to the very last element "
   ]
  },
  {
   "cell_type": "code",
   "execution_count": 109,
   "metadata": {},
   "outputs": [
    {
     "name": "stdout",
     "output_type": "stream",
     "text": [
      "['Swift', 'Java']\n"
     ]
    }
   ],
   "source": [
    "print(mobile_lang)"
   ]
  },
  {
   "cell_type": "markdown",
   "metadata": {},
   "source": [
    "### deleting and removing elements"
   ]
  },
  {
   "cell_type": "markdown",
   "metadata": {},
   "source": [
    "###### del uses [ index ]    --->  index no."
   ]
  },
  {
   "cell_type": "markdown",
   "metadata": {},
   "source": [
    "###### remove( value )  ---> value"
   ]
  },
  {
   "cell_type": "markdown",
   "metadata": {},
   "source": [
    "###### pop( index ) ---> slice out and can be inserted into other variable"
   ]
  },
  {
   "cell_type": "markdown",
   "metadata": {},
   "source": [
    "###### pop(  ) ---> slice out the last element and can be inserted into other variable"
   ]
  },
  {
   "cell_type": "code",
   "execution_count": 110,
   "metadata": {},
   "outputs": [],
   "source": [
    "number_series = [1,2,3,9,4]"
   ]
  },
  {
   "cell_type": "code",
   "execution_count": 111,
   "metadata": {},
   "outputs": [],
   "source": [
    "del number_series[3]  # Cannot transfer deleted element into another variable\n",
    "                        # To delete via index no."
   ]
  },
  {
   "cell_type": "code",
   "execution_count": 112,
   "metadata": {},
   "outputs": [
    {
     "data": {
      "text/plain": [
       "[1, 2, 3, 4]"
      ]
     },
     "execution_count": 112,
     "metadata": {},
     "output_type": "execute_result"
    }
   ],
   "source": [
    "number_series"
   ]
  },
  {
   "cell_type": "code",
   "execution_count": 113,
   "metadata": {},
   "outputs": [],
   "source": [
    "number_series.remove(4)  # Can remove with value"
   ]
  },
  {
   "cell_type": "code",
   "execution_count": 114,
   "metadata": {},
   "outputs": [
    {
     "data": {
      "text/plain": [
       "[1, 2, 3]"
      ]
     },
     "execution_count": 114,
     "metadata": {},
     "output_type": "execute_result"
    }
   ],
   "source": [
    "number_series"
   ]
  },
  {
   "cell_type": "code",
   "execution_count": 115,
   "metadata": {},
   "outputs": [],
   "source": [
    "three = number_series.pop(2)"
   ]
  },
  {
   "cell_type": "code",
   "execution_count": 116,
   "metadata": {},
   "outputs": [],
   "source": [
    "three = [three]"
   ]
  },
  {
   "cell_type": "code",
   "execution_count": 117,
   "metadata": {},
   "outputs": [],
   "source": [
    "number_series = number_series + three"
   ]
  },
  {
   "cell_type": "code",
   "execution_count": 118,
   "metadata": {},
   "outputs": [
    {
     "name": "stdout",
     "output_type": "stream",
     "text": [
      "[1, 2, 3]\n"
     ]
    }
   ],
   "source": [
    "print(number_series)"
   ]
  },
  {
   "cell_type": "code",
   "execution_count": 119,
   "metadata": {},
   "outputs": [],
   "source": [
    "alphabets = [\"a\", \"b\", \"c\", \"d\"]"
   ]
  },
  {
   "cell_type": "code",
   "execution_count": 120,
   "metadata": {},
   "outputs": [],
   "source": [
    "new_alpha = alphabets.pop(1)"
   ]
  },
  {
   "cell_type": "code",
   "execution_count": 121,
   "metadata": {},
   "outputs": [
    {
     "data": {
      "text/plain": [
       "'b'"
      ]
     },
     "execution_count": 121,
     "metadata": {},
     "output_type": "execute_result"
    }
   ],
   "source": [
    "new_alpha"
   ]
  },
  {
   "cell_type": "code",
   "execution_count": 122,
   "metadata": {},
   "outputs": [
    {
     "data": {
      "text/plain": [
       "['a', 'c', 'd', 'b']"
      ]
     },
     "execution_count": 122,
     "metadata": {},
     "output_type": "execute_result"
    }
   ],
   "source": [
    "alphabets.append(new_alpha)\n",
    "alphabets"
   ]
  },
  {
   "cell_type": "code",
   "execution_count": 123,
   "metadata": {},
   "outputs": [
    {
     "data": {
      "text/plain": [
       "['a', 'b', 'c', 'd']"
      ]
     },
     "execution_count": 123,
     "metadata": {},
     "output_type": "execute_result"
    }
   ],
   "source": [
    "alphabets.insert(1, alphabets.pop(3))\n",
    "alphabets"
   ]
  },
  {
   "cell_type": "markdown",
   "metadata": {},
   "source": [
    "### tuple"
   ]
  },
  {
   "cell_type": "markdown",
   "metadata": {},
   "source": [
    "###### Cannot be altered \n",
    "###### But CAN BE SLICED OUT because of squence type nature like LISTS."
   ]
  },
  {
   "cell_type": "code",
   "execution_count": 10,
   "metadata": {},
   "outputs": [
    {
     "data": {
      "text/plain": [
       "(1, 2, 3, 4, 5)"
      ]
     },
     "execution_count": 10,
     "metadata": {},
     "output_type": "execute_result"
    }
   ],
   "source": [
    "tuple_ex = (1,2,3,4,5)\n",
    "tuple_ex"
   ]
  },
  {
   "cell_type": "code",
   "execution_count": 11,
   "metadata": {},
   "outputs": [
    {
     "data": {
      "text/plain": [
       "1"
      ]
     },
     "execution_count": 11,
     "metadata": {},
     "output_type": "execute_result"
    }
   ],
   "source": [
    "tuple_ex[0]"
   ]
  },
  {
   "cell_type": "code",
   "execution_count": 12,
   "metadata": {},
   "outputs": [
    {
     "data": {
      "text/plain": [
       "(2, 3, 4)"
      ]
     },
     "execution_count": 12,
     "metadata": {},
     "output_type": "execute_result"
    }
   ],
   "source": [
    "tuple_ex[1:4]"
   ]
  },
  {
   "cell_type": "markdown",
   "metadata": {},
   "source": [
    "### for loop"
   ]
  },
  {
   "cell_type": "code",
   "execution_count": 126,
   "metadata": {},
   "outputs": [
    {
     "data": {
      "text/plain": [
       "[1, 2, 3, 4, 5, 2]"
      ]
     },
     "execution_count": 126,
     "metadata": {},
     "output_type": "execute_result"
    }
   ],
   "source": [
    "my_list = [1,2,3,4,5,2]\n",
    "my_list"
   ]
  },
  {
   "cell_type": "code",
   "execution_count": 127,
   "metadata": {},
   "outputs": [
    {
     "name": "stdout",
     "output_type": "stream",
     "text": [
      "it works!\n",
      "it works!\n"
     ]
    }
   ],
   "source": [
    "for element in my_list:\n",
    "    if 2 == element:\n",
    "        print(\"it works!\") # without break will continue searching untill all matches will be found"
   ]
  },
  {
   "cell_type": "markdown",
   "metadata": {},
   "source": [
    "### break"
   ]
  },
  {
   "cell_type": "markdown",
   "metadata": {},
   "source": [
    "###### it is used to stop for loop to search all of the list"
   ]
  },
  {
   "cell_type": "code",
   "execution_count": 128,
   "metadata": {},
   "outputs": [
    {
     "name": "stdout",
     "output_type": "stream",
     "text": [
      "it works!\n"
     ]
    }
   ],
   "source": [
    "for element in my_list:\n",
    "    if 2 == element:\n",
    "        print(\"it works!\")\n",
    "        break   # to only search for one time match"
   ]
  },
  {
   "cell_type": "markdown",
   "metadata": {},
   "source": [
    "### nested for loops "
   ]
  },
  {
   "cell_type": "code",
   "execution_count": 24,
   "metadata": {},
   "outputs": [],
   "source": [
    "list1 = [1,2,3,4,5]\n",
    "list2 = [\"a\",\"b\"]\n",
    "intalpha = []"
   ]
  },
  {
   "cell_type": "code",
   "execution_count": 25,
   "metadata": {},
   "outputs": [
    {
     "data": {
      "text/plain": [
       "10"
      ]
     },
     "execution_count": 25,
     "metadata": {},
     "output_type": "execute_result"
    }
   ],
   "source": [
    "i = 0\n",
    "for i in list1:    # count of iterations - initial \n",
    "    for k in list2:      # count of iteration - multiple \n",
    "        intalpha.append(k)\n",
    "len(intalpha) # initail iterations * multiple iterations (5 * 2)\n",
    "                # 5 times a and 5 times b ---- 5 + 5 = 10"
   ]
  },
  {
   "cell_type": "code",
   "execution_count": 130,
   "metadata": {},
   "outputs": [],
   "source": [
    "for i in list1:\n",
    "    for k in list2:  # first i element will iterate over all the k element(s) and then second i will iterate over all k element(s)\n",
    "        intalpha.append(str(i) + \" \" + k) "
   ]
  },
  {
   "cell_type": "code",
   "execution_count": 131,
   "metadata": {},
   "outputs": [
    {
     "data": {
      "text/plain": [
       "['1 a', '1 b', '2 a', '2 b', '3 a', '3 b', '4 a', '4 b', '5 a', '5 b']"
      ]
     },
     "execution_count": 131,
     "metadata": {},
     "output_type": "execute_result"
    }
   ],
   "source": [
    "intalpha"
   ]
  },
  {
   "cell_type": "code",
   "execution_count": 132,
   "metadata": {},
   "outputs": [],
   "source": [
    "list1 = [1,2,3,4,5]\n",
    "list2 = [\"a\"]"
   ]
  },
  {
   "cell_type": "code",
   "execution_count": 133,
   "metadata": {},
   "outputs": [
    {
     "name": "stdout",
     "output_type": "stream",
     "text": [
      "1 a\n",
      "2 a\n",
      "3 a\n",
      "4 a\n",
      "5 a\n"
     ]
    }
   ],
   "source": [
    "for i in list1:\n",
    "    for k in list2:\n",
    "        print(str(i) + \" \" + k)"
   ]
  },
  {
   "cell_type": "code",
   "execution_count": 134,
   "metadata": {},
   "outputs": [
    {
     "name": "stdout",
     "output_type": "stream",
     "text": [
      "Hi! john\n",
      "Hi! micheal\n",
      "Hi! ola\n"
     ]
    }
   ],
   "source": [
    "greet = [\"Hi!\"]\n",
    "names = [\"john\", \"micheal\", \"ola\"]\n",
    "for i in greet:\n",
    "    for j in names:\n",
    "        print(i + \" \" + j)"
   ]
  },
  {
   "cell_type": "markdown",
   "metadata": {},
   "source": [
    "### Input and datatype conversion"
   ]
  },
  {
   "cell_type": "markdown",
   "metadata": {},
   "source": [
    "###### int( ) to convert into integer"
   ]
  },
  {
   "cell_type": "markdown",
   "metadata": {},
   "source": [
    "###### str( ) to convert into string"
   ]
  },
  {
   "cell_type": "markdown",
   "metadata": {},
   "source": [
    "###### float( ) to convert into float"
   ]
  },
  {
   "cell_type": "code",
   "execution_count": 26,
   "metadata": {},
   "outputs": [
    {
     "name": "stdout",
     "output_type": "stream",
     "text": [
      "Enter the cost :  10000\n"
     ]
    }
   ],
   "source": [
    "input1 = input(\"Enter the cost :  \")\n",
    "input1 = int(input1)"
   ]
  },
  {
   "cell_type": "code",
   "execution_count": 27,
   "metadata": {},
   "outputs": [
    {
     "data": {
      "text/plain": [
       "9000"
      ]
     },
     "execution_count": 27,
     "metadata": {},
     "output_type": "execute_result"
    }
   ],
   "source": [
    "discounted_cost = input1 * 90 / 100\n",
    "discounted_cost = int(discounted_cost)\n",
    "discounted_cost"
   ]
  },
  {
   "cell_type": "code",
   "execution_count": null,
   "metadata": {},
   "outputs": [],
   "source": []
  },
  {
   "cell_type": "markdown",
   "metadata": {},
   "source": [
    "### Changing Case"
   ]
  },
  {
   "cell_type": "markdown",
   "metadata": {},
   "source": [
    "###### list.upper() to convert into upper case"
   ]
  },
  {
   "cell_type": "markdown",
   "metadata": {},
   "source": [
    "###### list.lower() to convert into lower case"
   ]
  },
  {
   "cell_type": "markdown",
   "metadata": {},
   "source": [
    "###### list.title() to convert into title case"
   ]
  },
  {
   "cell_type": "code",
   "execution_count": 137,
   "metadata": {},
   "outputs": [
    {
     "data": {
      "text/plain": [
       "['john', 'micheal', 'ola']"
      ]
     },
     "execution_count": 137,
     "metadata": {},
     "output_type": "execute_result"
    }
   ],
   "source": [
    "auth_name = [\"john\", \"micheal\", \"ola\"]\n",
    "auth_name"
   ]
  },
  {
   "cell_type": "code",
   "execution_count": 57,
   "metadata": {},
   "outputs": [
    {
     "name": "stdout",
     "output_type": "stream",
     "text": [
      "Enter your name: JOHN\n"
     ]
    },
    {
     "data": {
      "text/plain": [
       "'john'"
      ]
     },
     "execution_count": 57,
     "metadata": {},
     "output_type": "execute_result"
    }
   ],
   "source": [
    "input2 = input(\"Enter your name: \")\n",
    "input2.lower()  # it does not need to be placed in a variable"
   ]
  },
  {
   "cell_type": "code",
   "execution_count": 55,
   "metadata": {},
   "outputs": [
    {
     "name": "stdout",
     "output_type": "stream",
     "text": [
      "Enter your name: JOHN\n"
     ]
    },
    {
     "data": {
      "text/plain": [
       "'JOHN'"
      ]
     },
     "execution_count": 55,
     "metadata": {},
     "output_type": "execute_result"
    }
   ],
   "source": [
    "input2 = input(\"Enter your name: \")\n",
    "input2.lower()  # it does not need to be placed in a variable\n",
    "input2           # REMEMBER! Precedence will not be followed"
   ]
  },
  {
   "cell_type": "code",
   "execution_count": 56,
   "metadata": {},
   "outputs": [
    {
     "name": "stdout",
     "output_type": "stream",
     "text": [
      "Enter your name: JOHN\n"
     ]
    },
    {
     "data": {
      "text/plain": [
       "'john'"
      ]
     },
     "execution_count": 56,
     "metadata": {},
     "output_type": "execute_result"
    }
   ],
   "source": [
    "input2 = input(\"Enter your name: \")\n",
    "input2.lower()  # it does not need to be placed in a variable\n",
    "input2 = input2.lower() # variable assignment is necessary, in order to use it further\n",
    "input2"
   ]
  },
  {
   "cell_type": "code",
   "execution_count": null,
   "metadata": {},
   "outputs": [],
   "source": [
    "for name in auth_name:\n",
    "    if name == input2:\n",
    "        print(\"You are authorized to enter!\")"
   ]
  },
  {
   "cell_type": "code",
   "execution_count": 140,
   "metadata": {},
   "outputs": [
    {
     "data": {
      "text/plain": [
       "[1, 2, 3, 4, 5]"
      ]
     },
     "execution_count": 140,
     "metadata": {},
     "output_type": "execute_result"
    }
   ],
   "source": [
    "numb = [1,2,3,4,5]\n",
    "numb"
   ]
  },
  {
   "cell_type": "code",
   "execution_count": 141,
   "metadata": {},
   "outputs": [
    {
     "name": "stdout",
     "output_type": "stream",
     "text": [
      "Enter your rank: 1\n"
     ]
    }
   ],
   "source": [
    "input3 = input(\"Enter your rank: \")\n",
    "input3 = int(input3)    # It needs to placed within the variable"
   ]
  },
  {
   "cell_type": "code",
   "execution_count": 142,
   "metadata": {},
   "outputs": [
    {
     "name": "stdout",
     "output_type": "stream",
     "text": [
      "Superb, it works!\n"
     ]
    }
   ],
   "source": [
    "for i in numb:\n",
    "    if i == input3:\n",
    "        print(\"Superb, it works!\")"
   ]
  },
  {
   "cell_type": "code",
   "execution_count": null,
   "metadata": {},
   "outputs": [],
   "source": []
  },
  {
   "cell_type": "markdown",
   "metadata": {},
   "source": [
    "### Dictionary"
   ]
  },
  {
   "cell_type": "code",
   "execution_count": 1,
   "metadata": {},
   "outputs": [],
   "source": [
    "dict1 = {\n",
    "    \"first_name\" : \"Muhammad\",\n",
    "    \"last_name\" : \"Haris\",\n",
    "    \"nationality\" : \"Pakistani\"\n",
    "}"
   ]
  },
  {
   "cell_type": "code",
   "execution_count": 2,
   "metadata": {},
   "outputs": [
    {
     "data": {
      "text/plain": [
       "{'first_name': 'Muhammad', 'last_name': 'Haris', 'nationality': 'Pakistani'}"
      ]
     },
     "execution_count": 2,
     "metadata": {},
     "output_type": "execute_result"
    }
   ],
   "source": [
    "dict1 #calling all of the dictionary"
   ]
  },
  {
   "cell_type": "code",
   "execution_count": 60,
   "metadata": {},
   "outputs": [
    {
     "data": {
      "text/plain": [
       "'Pakistani'"
      ]
     },
     "execution_count": 60,
     "metadata": {},
     "output_type": "execute_result"
    }
   ],
   "source": [
    "dict1[\"nationality\"] # calling single value via its key"
   ]
  },
  {
   "cell_type": "code",
   "execution_count": 145,
   "metadata": {},
   "outputs": [],
   "source": [
    "my_country = dict1[\"nationality\"] # assigning a variable"
   ]
  },
  {
   "cell_type": "code",
   "execution_count": 146,
   "metadata": {},
   "outputs": [
    {
     "name": "stdout",
     "output_type": "stream",
     "text": [
      "Pakistani\n"
     ]
    }
   ],
   "source": [
    "print(my_country)"
   ]
  },
  {
   "cell_type": "code",
   "execution_count": 3,
   "metadata": {},
   "outputs": [],
   "source": [
    "dict2 = {\n",
    "    0 : \"neutral integer\", # int : string\n",
    "    \"salary\" : \"why should I tell you?\", # string : string\n",
    "    \"age\" : 24, # string : int\n",
    "    \"height\" : 5.8 # string : float \n",
    "}  # dictionaries possess hetrogenous nature "
   ]
  },
  {
   "cell_type": "code",
   "execution_count": 4,
   "metadata": {},
   "outputs": [
    {
     "data": {
      "text/plain": [
       "{0: 'neutral integer',\n",
       " 'salary': 'why should I tell you?',\n",
       " 'age': 24,\n",
       " 'height': 5.8}"
      ]
     },
     "execution_count": 4,
     "metadata": {},
     "output_type": "execute_result"
    }
   ],
   "source": [
    "dict2"
   ]
  },
  {
   "cell_type": "code",
   "execution_count": 149,
   "metadata": {},
   "outputs": [
    {
     "data": {
      "text/plain": [
       "'neutral integer'"
      ]
     },
     "execution_count": 149,
     "metadata": {},
     "output_type": "execute_result"
    }
   ],
   "source": [
    "dict2[0]"
   ]
  },
  {
   "cell_type": "code",
   "execution_count": 5,
   "metadata": {},
   "outputs": [
    {
     "data": {
      "text/plain": [
       "5.8"
      ]
     },
     "execution_count": 5,
     "metadata": {},
     "output_type": "execute_result"
    }
   ],
   "source": [
    "dict2[\"height\"]"
   ]
  },
  {
   "cell_type": "markdown",
   "metadata": {},
   "source": [
    "### Addition in dictionary"
   ]
  },
  {
   "cell_type": "code",
   "execution_count": 7,
   "metadata": {},
   "outputs": [],
   "source": [
    "dict3 = dict1"
   ]
  },
  {
   "cell_type": "code",
   "execution_count": 8,
   "metadata": {},
   "outputs": [],
   "source": [
    "dict3[\"university\"] = \"N.E.D\" # adding key with value in a pre-defined dictionary"
   ]
  },
  {
   "cell_type": "code",
   "execution_count": 9,
   "metadata": {},
   "outputs": [
    {
     "data": {
      "text/plain": [
       "{'first_name': 'Muhammad',\n",
       " 'last_name': 'Haris',\n",
       " 'nationality': 'Pakistani',\n",
       " 'university': 'N.E.D'}"
      ]
     },
     "execution_count": 9,
     "metadata": {},
     "output_type": "execute_result"
    }
   ],
   "source": [
    "dict3"
   ]
  },
  {
   "cell_type": "code",
   "execution_count": 10,
   "metadata": {},
   "outputs": [],
   "source": [
    "dict4 = {}  # empty dictionary"
   ]
  },
  {
   "cell_type": "code",
   "execution_count": 11,
   "metadata": {},
   "outputs": [],
   "source": [
    "dict4[0] = \"zero\"  # filling the pre-defined empty dictionary\n",
    "dict4[1] = \"one\"     # key not index\n",
    "dict4[2] = \"two\"\n",
    "dict4[3] = \"three\""
   ]
  },
  {
   "cell_type": "code",
   "execution_count": 75,
   "metadata": {},
   "outputs": [
    {
     "data": {
      "text/plain": [
       "{0: 'zero', 1: 'one', 2: 'two', 3: 'three'}"
      ]
     },
     "execution_count": 75,
     "metadata": {},
     "output_type": "execute_result"
    }
   ],
   "source": [
    "dict4 # proof "
   ]
  },
  {
   "cell_type": "code",
   "execution_count": null,
   "metadata": {},
   "outputs": [],
   "source": []
  },
  {
   "cell_type": "markdown",
   "metadata": {},
   "source": [
    "### Removing and Changing items of a dictionary"
   ]
  },
  {
   "cell_type": "code",
   "execution_count": 76,
   "metadata": {},
   "outputs": [],
   "source": [
    "del dict4[3]   # deleting an item just like in list BUT using key not index"
   ]
  },
  {
   "cell_type": "code",
   "execution_count": 77,
   "metadata": {},
   "outputs": [
    {
     "data": {
      "text/plain": [
       "{0: 'zero', 1: 'one', 2: 'two'}"
      ]
     },
     "execution_count": 77,
     "metadata": {},
     "output_type": "execute_result"
    }
   ],
   "source": [
    "dict4 # proof"
   ]
  },
  {
   "cell_type": "markdown",
   "metadata": {},
   "source": [
    "###### changing"
   ]
  },
  {
   "cell_type": "code",
   "execution_count": 83,
   "metadata": {},
   "outputs": [],
   "source": [
    "dict4[2] = \"whatever\" # changing like a list BUT using key not index"
   ]
  },
  {
   "cell_type": "code",
   "execution_count": 84,
   "metadata": {},
   "outputs": [
    {
     "data": {
      "text/plain": [
       "{0: 'zero', 1: 'one', 2: 'whatever'}"
      ]
     },
     "execution_count": 84,
     "metadata": {},
     "output_type": "execute_result"
    }
   ],
   "source": [
    "dict4 # proof"
   ]
  },
  {
   "cell_type": "markdown",
   "metadata": {},
   "source": [
    "### Looping through the dictionary"
   ]
  },
  {
   "cell_type": "code",
   "execution_count": 14,
   "metadata": {},
   "outputs": [],
   "source": [
    "dict5 = dict4"
   ]
  },
  {
   "cell_type": "code",
   "execution_count": 15,
   "metadata": {},
   "outputs": [
    {
     "data": {
      "text/plain": [
       "{0: 'zero', 1: 'one', 2: 'two', 3: 'three'}"
      ]
     },
     "execution_count": 15,
     "metadata": {},
     "output_type": "execute_result"
    }
   ],
   "source": [
    "dict5[2] = \"two\"\n",
    "dict5"
   ]
  },
  {
   "cell_type": "code",
   "execution_count": 16,
   "metadata": {},
   "outputs": [
    {
     "data": {
      "text/plain": [
       "dict_values(['zero', 'one', 'two', 'three'])"
      ]
     },
     "execution_count": 16,
     "metadata": {},
     "output_type": "execute_result"
    }
   ],
   "source": [
    "dict5.values()   # to get all the values at once"
   ]
  },
  {
   "cell_type": "code",
   "execution_count": 17,
   "metadata": {},
   "outputs": [
    {
     "name": "stdout",
     "output_type": "stream",
     "text": [
      "zero\n",
      "one\n",
      "two\n",
      "three\n"
     ]
    }
   ],
   "source": [
    "for each_value in dict5.values():  # all the values\n",
    "    print(each_value)\n"
   ]
  },
  {
   "cell_type": "code",
   "execution_count": 18,
   "metadata": {},
   "outputs": [
    {
     "data": {
      "text/plain": [
       "dict_keys(['first_name', 'last_name', 'nationality', 'university'])"
      ]
     },
     "execution_count": 18,
     "metadata": {},
     "output_type": "execute_result"
    }
   ],
   "source": [
    "dict1.keys() # to get all the keys"
   ]
  },
  {
   "cell_type": "markdown",
   "metadata": {},
   "source": [
    "###### by default, python will show keys of a dictionary if value() is not present in the for loop"
   ]
  },
  {
   "cell_type": "code",
   "execution_count": 19,
   "metadata": {},
   "outputs": [
    {
     "name": "stdout",
     "output_type": "stream",
     "text": [
      "first_name\n",
      "last_name\n",
      "nationality\n",
      "university\n"
     ]
    }
   ],
   "source": [
    "for i in dict1: # all the keys\n",
    "    print(i)  "
   ]
  },
  {
   "cell_type": "markdown",
   "metadata": {},
   "source": [
    "###### another method"
   ]
  },
  {
   "cell_type": "code",
   "execution_count": 20,
   "metadata": {},
   "outputs": [
    {
     "name": "stdout",
     "output_type": "stream",
     "text": [
      "first_name\n",
      "last_name\n",
      "nationality\n",
      "university\n"
     ]
    }
   ],
   "source": [
    "for each_key in dict1.keys():\n",
    "    print(each_key)"
   ]
  },
  {
   "cell_type": "code",
   "execution_count": 21,
   "metadata": {},
   "outputs": [
    {
     "name": "stdout",
     "output_type": "stream",
     "text": [
      "first_name  :  Muhammad\n",
      "last_name  :  Haris\n",
      "nationality  :  Pakistani\n",
      "university  :  N.E.D\n"
     ]
    }
   ],
   "source": [
    "for each_key, each_value in dict1.items():\n",
    "    print(each_key,\" : \",each_value)"
   ]
  },
  {
   "cell_type": "code",
   "execution_count": 22,
   "metadata": {},
   "outputs": [
    {
     "name": "stdout",
     "output_type": "stream",
     "text": [
      "integer 0 is called zero\n",
      "integer 1 is called one\n",
      "integer 2 is called two\n",
      "integer 3 is called three\n"
     ]
    }
   ],
   "source": [
    "for i,x in dict5.items():\n",
    "    print(\"integer\", i, \"is called\", x)"
   ]
  },
  {
   "cell_type": "code",
   "execution_count": 23,
   "metadata": {},
   "outputs": [
    {
     "data": {
      "text/plain": [
       "dict_items([(0, 'zero'), (1, 'one'), (2, 'two'), (3, 'three')])"
      ]
     },
     "execution_count": 23,
     "metadata": {},
     "output_type": "execute_result"
    }
   ],
   "source": [
    "dict5.items() # to get all the items of a dictionary as list of tuples"
   ]
  },
  {
   "cell_type": "markdown",
   "metadata": {},
   "source": [
    "### Creating a list of dictionaries"
   ]
  },
  {
   "cell_type": "code",
   "execution_count": 116,
   "metadata": {},
   "outputs": [],
   "source": [
    "dict_list_steps = {\n",
    "    \"step1\" : \"initialize a list\",\n",
    "    \"step2\" : \"initialize a dictionary\",\n",
    "    \"step3\" : \"code first dictionary\",\n",
    "    \"step4\" : \",\", # insert comma to seperate\n",
    "    \"step5\" : \"code another dictionary\",\n",
    "    \"step6\" : \"repeat step 4 and step 5 then keep doing it\"\n",
    "}"
   ]
  },
  {
   "cell_type": "code",
   "execution_count": 117,
   "metadata": {},
   "outputs": [
    {
     "data": {
      "text/plain": [
       "{'step1': 'initialize a list',\n",
       " 'step2': 'initialize a dictionary',\n",
       " 'step3': 'code first dictionary',\n",
       " 'step4': ',',\n",
       " 'step5': 'code another dictionary',\n",
       " 'step6': 'repeat step 4 and step 5 then keep doing it'}"
      ]
     },
     "execution_count": 117,
     "metadata": {},
     "output_type": "execute_result"
    }
   ],
   "source": [
    "dict_list_steps # follow the steps!"
   ]
  },
  {
   "cell_type": "code",
   "execution_count": 24,
   "metadata": {},
   "outputs": [
    {
     "data": {
      "text/plain": [
       "[{'roll_no': 0,\n",
       "  'first_name': 'Rizwan',\n",
       "  'last_name': 'Ahmed',\n",
       "  'nationality': 'Pakistani',\n",
       "  'university': 'N.E.D'},\n",
       " {'roll_no': 1,\n",
       "  'first_name': 'Muhammad',\n",
       "  'last_name': 'Zahid',\n",
       "  'nationality': 'Pakistani',\n",
       "  'university': 'N.E.D'},\n",
       " {'roll_no': 2,\n",
       "  'first_name': 'Syeda',\n",
       "  'last_name': 'Nida',\n",
       "  'nationality': 'Pakistani',\n",
       "  'university': 'N.E.D'}]"
      ]
     },
     "execution_count": 24,
     "metadata": {},
     "output_type": "execute_result"
    }
   ],
   "source": [
    "roll_nos = [\n",
    "    { \n",
    "        'roll_no': 0,\n",
    "        'first_name': 'Rizwan',\n",
    "        'last_name': 'Ahmed',\n",
    "        'nationality': 'Pakistani',\n",
    "        'university': 'N.E.D'\n",
    "    },\n",
    "    { \n",
    "        'roll_no': 1,\n",
    "        'first_name': 'Muhammad',\n",
    "        'last_name': 'Zahid',\n",
    "        'nationality': 'Pakistani',\n",
    "        'university': 'N.E.D'\n",
    "    },\n",
    "    {\n",
    "        'roll_no': 2,\n",
    "        'first_name': 'Syeda',\n",
    "        'last_name': 'Nida',\n",
    "        'nationality': 'Pakistani',\n",
    "        'university': 'N.E.D'\n",
    "    }\n",
    "]\n",
    "roll_nos"
   ]
  },
  {
   "cell_type": "markdown",
   "metadata": {},
   "source": [
    "### Picking info out of the list of dictionaries"
   ]
  },
  {
   "cell_type": "code",
   "execution_count": 25,
   "metadata": {},
   "outputs": [
    {
     "data": {
      "text/plain": [
       "{'roll_no': 0,\n",
       " 'first_name': 'Rizwan',\n",
       " 'last_name': 'Ahmed',\n",
       " 'nationality': 'Pakistani',\n",
       " 'university': 'N.E.D'}"
      ]
     },
     "execution_count": 25,
     "metadata": {},
     "output_type": "execute_result"
    }
   ],
   "source": [
    "student0 = roll_nos[0] # index 0 dictionary \n",
    "student0"
   ]
  },
  {
   "cell_type": "code",
   "execution_count": 26,
   "metadata": {},
   "outputs": [
    {
     "data": {
      "text/plain": [
       "'Rizwan'"
      ]
     },
     "execution_count": 26,
     "metadata": {},
     "output_type": "execute_result"
    }
   ],
   "source": [
    "student0_first_name = student0[\"first_name\"]\n",
    "student0_first_name"
   ]
  },
  {
   "cell_type": "code",
   "execution_count": 27,
   "metadata": {},
   "outputs": [
    {
     "data": {
      "text/plain": [
       "'Rizwan'"
      ]
     },
     "execution_count": 27,
     "metadata": {},
     "output_type": "execute_result"
    }
   ],
   "source": [
    "student123456 = roll_nos[0]['first_name'] # short method\n",
    "student123456"
   ]
  },
  {
   "cell_type": "markdown",
   "metadata": {},
   "source": [
    "### Adding new dictionaries to the already existing dictionary"
   ]
  },
  {
   "cell_type": "code",
   "execution_count": 31,
   "metadata": {},
   "outputs": [],
   "source": [
    "good_students = student0\n",
    "good_students = [good_students]\n",
    "new_students = {\n",
    "    'roll_no': 1,\n",
    "    'first_name': 'Moiz',\n",
    "    'last_name': 'Akram',\n",
    "    'nationality': 'Pakistani',\n",
    "    'university': 'N.E.D'}\n"
   ]
  },
  {
   "cell_type": "code",
   "execution_count": 32,
   "metadata": {},
   "outputs": [],
   "source": [
    "good_students.append(new_students)"
   ]
  },
  {
   "cell_type": "code",
   "execution_count": 33,
   "metadata": {},
   "outputs": [
    {
     "data": {
      "text/plain": [
       "[{'roll_no': 0,\n",
       "  'first_name': 'Rizwan',\n",
       "  'last_name': 'Ahmed',\n",
       "  'nationality': 'Pakistani',\n",
       "  'university': 'N.E.D'},\n",
       " {'roll_no': 1,\n",
       "  'first_name': 'Moiz',\n",
       "  'last_name': 'Akram',\n",
       "  'nationality': 'Pakistani',\n",
       "  'university': 'N.E.D'}]"
      ]
     },
     "execution_count": 33,
     "metadata": {},
     "output_type": "execute_result"
    }
   ],
   "source": [
    "good_students"
   ]
  },
  {
   "cell_type": "markdown",
   "metadata": {},
   "source": [
    "###### formula to find the new_dictionary's index:\n",
    "   ###### new_item_id = len(old_dictionary)  \n",
    "    \n",
    "   ###### since old dictionary's last item index will be len - 1\n",
    "   ###### therefore, the len of old_dictionary will be\n",
    "   ###### the index no. of new_item"
   ]
  },
  {
   "cell_type": "code",
   "execution_count": 34,
   "metadata": {},
   "outputs": [],
   "source": [
    "new_roll_no = len(roll_nos)"
   ]
  },
  {
   "cell_type": "code",
   "execution_count": 35,
   "metadata": {},
   "outputs": [
    {
     "data": {
      "text/plain": [
       "3"
      ]
     },
     "execution_count": 35,
     "metadata": {},
     "output_type": "execute_result"
    }
   ],
   "source": [
    "new_roll_no"
   ]
  },
  {
   "cell_type": "code",
   "execution_count": 38,
   "metadata": {},
   "outputs": [],
   "source": [
    "new_admit_student = {\n",
    "    'roll_no': new_roll_no,\n",
    "    'first_name': 'Jawad',\n",
    "    'last_name': 'Akram',\n",
    "    'nationality': 'Pakistani',\n",
    "    'university': 'N.E.D'}"
   ]
  },
  {
   "cell_type": "code",
   "execution_count": 41,
   "metadata": {},
   "outputs": [],
   "source": [
    "roll_nos.append(new_admit_student)"
   ]
  },
  {
   "cell_type": "code",
   "execution_count": 42,
   "metadata": {},
   "outputs": [
    {
     "data": {
      "text/plain": [
       "[{'roll_no': 0,\n",
       "  'first_name': 'Rizwan',\n",
       "  'last_name': 'Ahmed',\n",
       "  'nationality': 'Pakistani',\n",
       "  'university': 'N.E.D'},\n",
       " {'roll_no': 1,\n",
       "  'first_name': 'Muhammad',\n",
       "  'last_name': 'Zahid',\n",
       "  'nationality': 'Pakistani',\n",
       "  'university': 'N.E.D'},\n",
       " {'roll_no': 2,\n",
       "  'first_name': 'Syeda',\n",
       "  'last_name': 'Nida',\n",
       "  'nationality': 'Pakistani',\n",
       "  'university': 'N.E.D'},\n",
       " {'roll_no': 3,\n",
       "  'first_name': 'Jawad',\n",
       "  'last_name': 'Akram',\n",
       "  'nationality': 'Pakistani',\n",
       "  'university': 'K.U.'},\n",
       " {'roll_no': 3,\n",
       "  'first_name': 'Jawad',\n",
       "  'last_name': 'Akram',\n",
       "  'nationality': 'Pakistani',\n",
       "  'university': 'N.E.D'},\n",
       " {'roll_no': 3,\n",
       "  'first_name': 'Jawad',\n",
       "  'last_name': 'Akram',\n",
       "  'nationality': 'Pakistani',\n",
       "  'university': 'N.E.D'}]"
      ]
     },
     "execution_count": 42,
     "metadata": {},
     "output_type": "execute_result"
    }
   ],
   "source": [
    "roll_nos"
   ]
  },
  {
   "cell_type": "markdown",
   "metadata": {},
   "source": [
    "### Dictionary that contains list"
   ]
  },
  {
   "cell_type": "code",
   "execution_count": 43,
   "metadata": {},
   "outputs": [
    {
     "data": {
      "text/plain": [
       "{0: 'neutral integer',\n",
       " 'salary': 'why should I tell you?',\n",
       " 'age': 24,\n",
       " 'height': 5.8}"
      ]
     },
     "execution_count": 43,
     "metadata": {},
     "output_type": "execute_result"
    }
   ],
   "source": [
    "user_details = dict2\n",
    "user_detail = user_details\n",
    "user_detail"
   ]
  },
  {
   "cell_type": "code",
   "execution_count": 50,
   "metadata": {},
   "outputs": [],
   "source": [
    "user_detail[\"qualifications\"] = [\"matric\", \"inter\", \"b.e\", \"m.com\"]\n"
   ]
  },
  {
   "cell_type": "code",
   "execution_count": 51,
   "metadata": {},
   "outputs": [
    {
     "data": {
      "text/plain": [
       "{0: 'neutral integer',\n",
       " 'salary': 'why should I tell you?',\n",
       " 'age': 24,\n",
       " 'height': 5.8,\n",
       " 'qualifications': ['matric', 'inter', 'b.e', 'm.com']}"
      ]
     },
     "execution_count": 51,
     "metadata": {},
     "output_type": "execute_result"
    }
   ],
   "source": [
    "user_detail # proof"
   ]
  },
  {
   "cell_type": "code",
   "execution_count": 52,
   "metadata": {},
   "outputs": [
    {
     "data": {
      "text/plain": [
       "['matric', 'inter', 'b.e', 'm.com']"
      ]
     },
     "execution_count": 52,
     "metadata": {},
     "output_type": "execute_result"
    }
   ],
   "source": [
    "user_detail[\"qualifications\"]"
   ]
  },
  {
   "cell_type": "code",
   "execution_count": 53,
   "metadata": {},
   "outputs": [
    {
     "name": "stdout",
     "output_type": "stream",
     "text": [
      "75 %\n"
     ]
    }
   ],
   "source": [
    "admission_chance_percent = 0\n",
    "if \"matric\" in user_detail[\"qualifications\"]:\n",
    "    admission_chance_percent += 25\n",
    "if \"inter\" in user_detail[\"qualifications\"]:\n",
    "    admission_chance_percent += 25\n",
    "if \"b.com\" in user_detail[\"qualifications\"]:\n",
    "    admission_chance_percent += 25\n",
    "if \"m.com\" in user_detail[\"qualifications\"]:\n",
    "    admission_chance_percent += 25\n",
    "else:\n",
    "    admission_chance_percent = 0 \n",
    "print(str(admission_chance_percent),\"%\")"
   ]
  },
  {
   "cell_type": "markdown",
   "metadata": {},
   "source": [
    "### Dictionary of Dictionaries"
   ]
  },
  {
   "cell_type": "code",
   "execution_count": 54,
   "metadata": {},
   "outputs": [
    {
     "data": {
      "text/plain": [
       "[{'roll_no': 0,\n",
       "  'first_name': 'Rizwan',\n",
       "  'last_name': 'Ahmed',\n",
       "  'nationality': 'Pakistani',\n",
       "  'university': 'N.E.D'},\n",
       " {'roll_no': 1,\n",
       "  'first_name': 'Muhammad',\n",
       "  'last_name': 'Zahid',\n",
       "  'nationality': 'Pakistani',\n",
       "  'university': 'N.E.D'},\n",
       " {'roll_no': 2,\n",
       "  'first_name': 'Syeda',\n",
       "  'last_name': 'Nida',\n",
       "  'nationality': 'Pakistani',\n",
       "  'university': 'N.E.D'},\n",
       " {'roll_no': 3,\n",
       "  'first_name': 'Jawad',\n",
       "  'last_name': 'Akram',\n",
       "  'nationality': 'Pakistani',\n",
       "  'university': 'K.U.'},\n",
       " {'roll_no': 3,\n",
       "  'first_name': 'Jawad',\n",
       "  'last_name': 'Akram',\n",
       "  'nationality': 'Pakistani',\n",
       "  'university': 'N.E.D'},\n",
       " {'roll_no': 3,\n",
       "  'first_name': 'Jawad',\n",
       "  'last_name': 'Akram',\n",
       "  'nationality': 'Pakistani',\n",
       "  'university': 'N.E.D'}]"
      ]
     },
     "execution_count": 54,
     "metadata": {},
     "output_type": "execute_result"
    }
   ],
   "source": [
    "roll_nos"
   ]
  },
  {
   "cell_type": "code",
   "execution_count": 55,
   "metadata": {},
   "outputs": [],
   "source": [
    "roll_nos_dict ={\n",
    "    0 :\n",
    "    {'first_name': 'Rizwan',\n",
    "    'last_name': 'Ahmed',\n",
    "    'nationality': 'Pakistani',\n",
    "    'university': 'N.E.D'},\n",
    "\n",
    "    1 : \n",
    "    {'first_name': 'Muhammad',\n",
    "    'last_name': 'Zahid',\n",
    "    'nationality': 'Pakistani',\n",
    "    'university': 'N.E.D'},\n",
    "    2:\n",
    "    {'first_name': 'Syeda',\n",
    "    'last_name': 'Nida',\n",
    "    'nationality': 'Pakistani',\n",
    "    'university': 'N.E.D'},\n",
    "\n",
    "    3:\n",
    "    {'first_name': 'Jawad',\n",
    "    'last_name': 'Akram',\n",
    "    'nationality': 'Pakistani',\n",
    "    'university': 'N.E.D'}\n",
    "}"
   ]
  },
  {
   "cell_type": "code",
   "execution_count": 56,
   "metadata": {},
   "outputs": [
    {
     "data": {
      "text/plain": [
       "{0: {'first_name': 'Rizwan',\n",
       "  'last_name': 'Ahmed',\n",
       "  'nationality': 'Pakistani',\n",
       "  'university': 'N.E.D'},\n",
       " 1: {'first_name': 'Muhammad',\n",
       "  'last_name': 'Zahid',\n",
       "  'nationality': 'Pakistani',\n",
       "  'university': 'N.E.D'},\n",
       " 2: {'first_name': 'Syeda',\n",
       "  'last_name': 'Nida',\n",
       "  'nationality': 'Pakistani',\n",
       "  'university': 'N.E.D'},\n",
       " 3: {'first_name': 'Jawad',\n",
       "  'last_name': 'Akram',\n",
       "  'nationality': 'Pakistani',\n",
       "  'university': 'N.E.D'}}"
      ]
     },
     "execution_count": 56,
     "metadata": {},
     "output_type": "execute_result"
    }
   ],
   "source": [
    "roll_nos_dict"
   ]
  },
  {
   "cell_type": "code",
   "execution_count": 57,
   "metadata": {},
   "outputs": [
    {
     "data": {
      "text/plain": [
       "{'first_name': 'Syeda',\n",
       " 'last_name': 'Nida',\n",
       " 'nationality': 'Pakistani',\n",
       " 'university': 'N.E.D'}"
      ]
     },
     "execution_count": 57,
     "metadata": {},
     "output_type": "execute_result"
    }
   ],
   "source": [
    "roll_nos_dict[2]"
   ]
  },
  {
   "cell_type": "code",
   "execution_count": 58,
   "metadata": {},
   "outputs": [
    {
     "data": {
      "text/plain": [
       "'Nida'"
      ]
     },
     "execution_count": 58,
     "metadata": {},
     "output_type": "execute_result"
    }
   ],
   "source": [
    "roll_nos_dict[2][\"last_name\"]   # dict[key(1)][key(1.1)] \n",
    "                                # 1 - first key 1.1 its part"
   ]
  },
  {
   "cell_type": "markdown",
   "metadata": {},
   "source": [
    "### functions"
   ]
  },
  {
   "cell_type": "markdown",
   "metadata": {},
   "source": [
    "###### functions MUST have definition code and calling code in order to work"
   ]
  },
  {
   "cell_type": "markdown",
   "metadata": {},
   "source": [
    "###### function(a, b) = a and b are called arguments"
   ]
  },
  {
   "cell_type": "markdown",
   "metadata": {},
   "source": [
    "###### ( ) - calling code"
   ]
  },
  {
   "cell_type": "markdown",
   "metadata": {},
   "source": [
    "###### string or int or float can not be passed as a parameter"
   ]
  },
  {
   "cell_type": "markdown",
   "metadata": {},
   "source": [
    "###### string or int or float can be passed as an argument"
   ]
  },
  {
   "cell_type": "code",
   "execution_count": 59,
   "metadata": {},
   "outputs": [],
   "source": [
    "def add_funct(first_no, second_no):  # (parameter) if defining\n",
    "    total_no = first_no + second_no\n",
    "    print(total_no)"
   ]
  },
  {
   "cell_type": "code",
   "execution_count": 60,
   "metadata": {},
   "outputs": [
    {
     "name": "stdout",
     "output_type": "stream",
     "text": [
      "20\n"
     ]
    }
   ],
   "source": [
    "add_funct(15,5)"
   ]
  },
  {
   "cell_type": "code",
   "execution_count": 61,
   "metadata": {},
   "outputs": [
    {
     "name": "stdout",
     "output_type": "stream",
     "text": [
      "2.3\n"
     ]
    }
   ],
   "source": [
    "add_funct(1.1, 1.2)"
   ]
  },
  {
   "cell_type": "code",
   "execution_count": 62,
   "metadata": {},
   "outputs": [],
   "source": [
    "def full_name():    # ()\n",
    "    first_name = \"Jon\"\n",
    "    second_name = \"Eliya\"\n",
    "    full_name = first_name + \" \" + second_name\n",
    "    print(full_name)"
   ]
  },
  {
   "cell_type": "code",
   "execution_count": 63,
   "metadata": {},
   "outputs": [
    {
     "name": "stdout",
     "output_type": "stream",
     "text": [
      "Jon Eliya\n"
     ]
    }
   ],
   "source": [
    "full_name()  # calling code"
   ]
  },
  {
   "cell_type": "code",
   "execution_count": 64,
   "metadata": {},
   "outputs": [],
   "source": [
    "greetings = \"Hi, World!\"  # why only to say hello?! ;)\n",
    "\n",
    "def greet_funct(greetings):  # using variable rather string\n",
    "    print(greetings)         "
   ]
  },
  {
   "cell_type": "code",
   "execution_count": 65,
   "metadata": {},
   "outputs": [
    {
     "name": "stdout",
     "output_type": "stream",
     "text": [
      "Hi, World!\n"
     ]
    }
   ],
   "source": [
    "greet_funct(greetings)  # (argument) if calling"
   ]
  },
  {
   "cell_type": "code",
   "execution_count": 66,
   "metadata": {},
   "outputs": [
    {
     "name": "stdout",
     "output_type": "stream",
     "text": [
      "talk is cheap, show me the code! -Linus Torvalds\n"
     ]
    }
   ],
   "source": [
    "quote = \"talk is cheap, show me the code! -Linus Torvalds\"\n",
    "greet_funct(quote)"
   ]
  },
  {
   "cell_type": "code",
   "execution_count": 67,
   "metadata": {},
   "outputs": [
    {
     "name": "stdout",
     "output_type": "stream",
     "text": [
      "whatever\n"
     ]
    }
   ],
   "source": [
    "greet_funct(\"whatever\")  "
   ]
  },
  {
   "cell_type": "markdown",
   "metadata": {},
   "source": [
    "### positional vs keyword arguments"
   ]
  },
  {
   "cell_type": "code",
   "execution_count": 68,
   "metadata": {},
   "outputs": [],
   "source": [
    "def fullname(firstname, lastname):\n",
    "    print(\"my full name is \"+ \" \" + firstname + \" \" + lastname)"
   ]
  },
  {
   "cell_type": "code",
   "execution_count": 69,
   "metadata": {},
   "outputs": [
    {
     "name": "stdout",
     "output_type": "stream",
     "text": [
      "my full name is  Muhammad Haris\n"
     ]
    }
   ],
   "source": [
    "fullname(\"Muhammad\", \"Haris\") # positional argument, order matters"
   ]
  },
  {
   "cell_type": "code",
   "execution_count": 70,
   "metadata": {},
   "outputs": [
    {
     "name": "stdout",
     "output_type": "stream",
     "text": [
      "my full name is  Muhammad Haris\n"
     ]
    }
   ],
   "source": [
    "fullname(lastname = \"Haris\", firstname = \"Muhammad\") # keyword argument\n",
    "                                                    # order doesn't matter"
   ]
  },
  {
   "cell_type": "markdown",
   "metadata": {},
   "source": [
    "### default value parameters"
   ]
  },
  {
   "cell_type": "markdown",
   "metadata": {},
   "source": [
    "###### ONLY Keyword parameter can have default value"
   ]
  },
  {
   "cell_type": "markdown",
   "metadata": {},
   "source": [
    "###### Without(W/O) Default Keyword_para must come before Default Keyword_para"
   ]
  },
  {
   "cell_type": "code",
   "execution_count": 71,
   "metadata": {},
   "outputs": [],
   "source": [
    "def calc_percentage(obtained_marks = 900,total_marks = 1000):\n",
    "    per = obtained_marks / total_marks\n",
    "    print(per)"
   ]
  },
  {
   "cell_type": "code",
   "execution_count": 72,
   "metadata": {},
   "outputs": [
    {
     "name": "stdout",
     "output_type": "stream",
     "text": [
      "0.85\n"
     ]
    }
   ],
   "source": [
    "calc_percentage(obtained_marks = 850) # 1000 total marks considered as default value"
   ]
  },
  {
   "cell_type": "code",
   "execution_count": 73,
   "metadata": {},
   "outputs": [],
   "source": [
    "def percentage(obtained_marks,total_marks):\n",
    "    per = obtained_marks / total_marks\n",
    "    print(per)"
   ]
  },
  {
   "cell_type": "code",
   "execution_count": 74,
   "metadata": {},
   "outputs": [
    {
     "name": "stdout",
     "output_type": "stream",
     "text": [
      "0.95\n"
     ]
    }
   ],
   "source": [
    "percentage(obtained_marks = 950, total_marks = 1000)"
   ]
  },
  {
   "cell_type": "code",
   "execution_count": 75,
   "metadata": {},
   "outputs": [],
   "source": [
    "def percentage(obtained_marks, total_marks = 1100): # W/O default must come before with default\n",
    "    print(obtained_marks / total_marks)"
   ]
  },
  {
   "cell_type": "code",
   "execution_count": 76,
   "metadata": {},
   "outputs": [
    {
     "name": "stdout",
     "output_type": "stream",
     "text": [
      "0.7727272727272727\n"
     ]
    }
   ],
   "source": [
    "percentage(obtained_marks = 850)"
   ]
  },
  {
   "cell_type": "code",
   "execution_count": 77,
   "metadata": {},
   "outputs": [
    {
     "name": "stdout",
     "output_type": "stream",
     "text": [
      "1.0\n"
     ]
    }
   ],
   "source": [
    "percentage(obtained_marks = 850, total_marks = 850)"
   ]
  },
  {
   "cell_type": "markdown",
   "metadata": {},
   "source": [
    "### optional argument"
   ]
  },
  {
   "cell_type": "code",
   "execution_count": 78,
   "metadata": {},
   "outputs": [],
   "source": [
    "def fullname(first_name,last_name,middle_name = \"\"): # W/O default must come before with default\n",
    "    print('my full name is' + ' ' + first_name + ' ' + middle_name + ' ' + last_name)"
   ]
  },
  {
   "cell_type": "code",
   "execution_count": 79,
   "metadata": {},
   "outputs": [
    {
     "name": "stdout",
     "output_type": "stream",
     "text": [
      "my full name is Muhammad  Haris\n"
     ]
    }
   ],
   "source": [
    "fullname(\"Muhammad\",\"Haris\")"
   ]
  },
  {
   "cell_type": "code",
   "execution_count": 80,
   "metadata": {},
   "outputs": [
    {
     "name": "stdout",
     "output_type": "stream",
     "text": [
      "my full name is Muhammad Haris Anis\n"
     ]
    }
   ],
   "source": [
    "fullname(\"Muhammad\",\"Anis\",\"Haris\") # W/O default must come before with default"
   ]
  },
  {
   "cell_type": "code",
   "execution_count": 216,
   "metadata": {},
   "outputs": [],
   "source": [
    "def fullname(first_name = \"\",middle_name = \"\",last_name = \"\"): # default case solution\n",
    "    print('my full name is' + ' ' + first_name + ' ' + middle_name + ' ' + last_name)"
   ]
  },
  {
   "cell_type": "code",
   "execution_count": 81,
   "metadata": {},
   "outputs": [
    {
     "name": "stdout",
     "output_type": "stream",
     "text": [
      "my full name is Muhammad Anis Haris\n"
     ]
    }
   ],
   "source": [
    "fullname(\"Muhammad\",\"Haris\",\"Anis\")"
   ]
  },
  {
   "cell_type": "markdown",
   "metadata": {},
   "source": [
    "###### Mixing Positional and Keyword Arguments"
   ]
  },
  {
   "cell_type": "markdown",
   "metadata": {},
   "source": [
    "###### order of arguments( positional arg, keyword arg W/O defaults, Keyword arg with defaults)"
   ]
  },
  {
   "cell_type": "code",
   "execution_count": 82,
   "metadata": {},
   "outputs": [],
   "source": [
    "def give_greeting(greeting, first_name):\n",
    "    print(greeting + \", \" + first_name)"
   ]
  },
  {
   "cell_type": "code",
   "execution_count": 83,
   "metadata": {},
   "outputs": [
    {
     "name": "stdout",
     "output_type": "stream",
     "text": [
      "Hello there, Haris\n"
     ]
    }
   ],
   "source": [
    "give_greeting(\"Hello there\", first_name=\"Haris\")"
   ]
  },
  {
   "cell_type": "code",
   "execution_count": 84,
   "metadata": {},
   "outputs": [],
   "source": [
    "def give_greeting(greeting, first_name, id_number = \" 42101\"):\n",
    "    print(greeting + \", \" + first_name + id_number)\n",
    "# one cannot pass parameter in the print() of function definition"
   ]
  },
  {
   "cell_type": "code",
   "execution_count": 85,
   "metadata": {},
   "outputs": [
    {
     "name": "stdout",
     "output_type": "stream",
     "text": [
      "Greetings, Muhammad 42101\n"
     ]
    }
   ],
   "source": [
    "give_greeting(\"Greetings\", first_name = \"Muhammad\") # id_number acting as default\n",
    "# all the arguments must be of similar data type ( str, str, str)"
   ]
  },
  {
   "cell_type": "code",
   "execution_count": 86,
   "metadata": {},
   "outputs": [
    {
     "name": "stdout",
     "output_type": "stream",
     "text": [
      "Greetings, Muhammad 8988\n"
     ]
    }
   ],
   "source": [
    "give_greeting(\"Greetings\", first_name = \"Muhammad\", id_number = \" 8988\" )\n",
    "# id_number acting like keyword argument without default"
   ]
  },
  {
   "cell_type": "code",
   "execution_count": 87,
   "metadata": {},
   "outputs": [
    {
     "data": {
      "text/plain": [
       "{0: {'first_name': 'Rizwan',\n",
       "  'last_name': 'Ahmed',\n",
       "  'nationality': 'Pakistani',\n",
       "  'university': 'N.E.D'},\n",
       " 1: {'first_name': 'Muhammad',\n",
       "  'last_name': 'Zahid',\n",
       "  'nationality': 'Pakistani',\n",
       "  'university': 'N.E.D'},\n",
       " 2: {'first_name': 'Syeda',\n",
       "  'last_name': 'Nida',\n",
       "  'nationality': 'Pakistani',\n",
       "  'university': 'N.E.D'},\n",
       " 3: {'first_name': 'Jawad',\n",
       "  'last_name': 'Akram',\n",
       "  'nationality': 'Pakistani',\n",
       "  'university': 'N.E.D'}}"
      ]
     },
     "execution_count": 87,
     "metadata": {},
     "output_type": "execute_result"
    }
   ],
   "source": [
    "roll_dict = roll_nos_dict.copy()\n",
    "roll_dict"
   ]
  },
  {
   "cell_type": "code",
   "execution_count": 88,
   "metadata": {},
   "outputs": [],
   "source": [
    "def search_funct(dic,inner_dict,target):\n",
    "    print(dic[inner_dict][target])\n",
    "\n",
    "    # OR\n",
    "def search_funct_simple():\n",
    "    print(roll_dict[2][\"last_name\"])"
   ]
  },
  {
   "cell_type": "code",
   "execution_count": 89,
   "metadata": {},
   "outputs": [
    {
     "name": "stdout",
     "output_type": "stream",
     "text": [
      "Nida\n"
     ]
    }
   ],
   "source": [
    "search_funct(roll_dict,2,\"last_name\")"
   ]
  },
  {
   "cell_type": "code",
   "execution_count": 90,
   "metadata": {},
   "outputs": [
    {
     "name": "stdout",
     "output_type": "stream",
     "text": [
      "Nida\n"
     ]
    }
   ],
   "source": [
    "search_funct_simple()"
   ]
  },
  {
   "cell_type": "markdown",
   "metadata": {},
   "source": [
    "### Unknown number of arguments"
   ]
  },
  {
   "cell_type": "markdown",
   "metadata": {},
   "source": [
    "###### define just the variable as parameters, while defining a function\n",
    "###### initialize the variable as arguments, while calling the function\n",
    "###### Optional Arguments MUST come AFTER Regular Arguments\n",
    "###### Optional Parameters MUST come AFTER Regular Parameter\n",
    "###### optional argument to be in a dictionary use double ** in front of dictionary parameter\n",
    "###### (if the optional arguments will not be passed, nothing will be displayed)\n",
    "###### optional argument to be in a tuple use single * in front of dictionary parameter\n",
    "###### (if the optional argumentswill not be passed, an empty tuple will be displayed)"
   ]
  },
  {
   "cell_type": "code",
   "execution_count": 91,
   "metadata": {},
   "outputs": [],
   "source": [
    "def student_details(first_name, last_name, **other_info): # optional arguments\n",
    "    print(first_name)\n",
    "    print(last_name)\n",
    "    for key, value in other_info.items():\n",
    "        print(key + \": \" + value)"
   ]
  },
  {
   "cell_type": "code",
   "execution_count": 92,
   "metadata": {},
   "outputs": [
    {
     "name": "stdout",
     "output_type": "stream",
     "text": [
      "Muhammad\n",
      "Haris\n",
      "school: Institute of Applied AI Engineers\n",
      "nationality: Pakistani\n"
     ]
    }
   ],
   "source": [
    "student_details(first_name = \"Muhammad\", last_name = \"Haris\", school = \"Institute of Applied AI Engineers\", nationality = \"Pakistani\")"
   ]
  },
  {
   "cell_type": "code",
   "execution_count": 93,
   "metadata": {},
   "outputs": [
    {
     "name": "stdout",
     "output_type": "stream",
     "text": [
      "Muhammad\n",
      "Haris\n"
     ]
    }
   ],
   "source": [
    "student_details(first_name = \"Muhammad\", last_name = \"Haris\") \n",
    "# an empty dictionary of optional positional parameters"
   ]
  },
  {
   "cell_type": "code",
   "execution_count": 94,
   "metadata": {},
   "outputs": [],
   "source": [
    "def number_series(first_num, second_num, *others_num):\n",
    "    print(first_num)\n",
    "    print(second_num)\n",
    "    print(others_num)\n",
    "    "
   ]
  },
  {
   "cell_type": "code",
   "execution_count": 95,
   "metadata": {},
   "outputs": [
    {
     "name": "stdout",
     "output_type": "stream",
     "text": [
      "1\n",
      "2\n",
      "(3, 4, 5)\n"
     ]
    }
   ],
   "source": [
    "number_series(1,2,3,4,5) "
   ]
  },
  {
   "cell_type": "code",
   "execution_count": 96,
   "metadata": {},
   "outputs": [
    {
     "name": "stdout",
     "output_type": "stream",
     "text": [
      "1\n",
      "2\n",
      "()\n"
     ]
    }
   ],
   "source": [
    "number_series(1,2) # an empty tuple of positional parameters"
   ]
  },
  {
   "cell_type": "code",
   "execution_count": 97,
   "metadata": {},
   "outputs": [
    {
     "name": "stdout",
     "output_type": "stream",
     "text": [
      "1\n",
      "2\n",
      "(3, 4, 5, 6, 7, 8, 9, 10)\n"
     ]
    }
   ],
   "source": [
    "number_series(1,2,3,4,5,6,7,8,9,10) # playing :D"
   ]
  },
  {
   "cell_type": "markdown",
   "metadata": {},
   "source": [
    "### Return (to pass info to other variables)"
   ]
  },
  {
   "cell_type": "code",
   "execution_count": 98,
   "metadata": {},
   "outputs": [],
   "source": [
    "def tax(sales, tax_rate):\n",
    "    tax = (sales * tax_rate)/100\n",
    "    return tax"
   ]
  },
  {
   "cell_type": "code",
   "execution_count": 99,
   "metadata": {},
   "outputs": [
    {
     "data": {
      "text/plain": [
       "100"
      ]
     },
     "execution_count": 99,
     "metadata": {},
     "output_type": "execute_result"
    }
   ],
   "source": [
    "tax = tax(1000, 10)\n",
    "tax = int(tax)\n",
    "tax"
   ]
  },
  {
   "cell_type": "markdown",
   "metadata": {},
   "source": [
    "###### to make it short (condensing)"
   ]
  },
  {
   "cell_type": "code",
   "execution_count": 100,
   "metadata": {},
   "outputs": [],
   "source": [
    "def tax(sales, tax_rate):\n",
    "    return (int((sales * tax_rate)/100))"
   ]
  },
  {
   "cell_type": "code",
   "execution_count": 101,
   "metadata": {},
   "outputs": [
    {
     "data": {
      "text/plain": [
       "8000"
      ]
     },
     "execution_count": 101,
     "metadata": {},
     "output_type": "execute_result"
    }
   ],
   "source": [
    "tax = tax(20000, 40)\n",
    "tax"
   ]
  },
  {
   "cell_type": "markdown",
   "metadata": {},
   "source": [
    "###### condensed operations"
   ]
  },
  {
   "cell_type": "code",
   "execution_count": 102,
   "metadata": {},
   "outputs": [],
   "source": [
    "def add_funct(num1,num2):\n",
    "    return num1 + num2\n",
    "def sub_funct(num1,num2):\n",
    "    return num1 - num2"
   ]
  },
  {
   "cell_type": "code",
   "execution_count": 103,
   "metadata": {},
   "outputs": [
    {
     "name": "stdout",
     "output_type": "stream",
     "text": [
      "4  = proof =  4\n"
     ]
    }
   ],
   "source": [
    "total = add_funct(2,1) + sub_funct(4,3) # math operation via function \n",
    "print(str(total), \" = proof = \", str((2+1)+(4-3)))"
   ]
  },
  {
   "cell_type": "markdown",
   "metadata": {},
   "source": [
    "### Scope of Variables (local vs Global)"
   ]
  },
  {
   "cell_type": "markdown",
   "metadata": {},
   "source": [
    "###### global variable which is within the main body but not with in the function\n",
    "###### local variable which is within the function\n",
    "###### global variables can be used within the function without defining them again, while local variable cannot be used outside the function \n",
    "###### whatever will happen to global variable inside the function will not affect the same global variable outside of the function"
   ]
  },
  {
   "cell_type": "code",
   "execution_count": 104,
   "metadata": {},
   "outputs": [],
   "source": [
    "def name_funct(name):\n",
    "    return name"
   ]
  },
  {
   "cell_type": "code",
   "execution_count": 105,
   "metadata": {},
   "outputs": [],
   "source": [
    "name = \"Muhammad\""
   ]
  },
  {
   "cell_type": "code",
   "execution_count": 106,
   "metadata": {},
   "outputs": [
    {
     "data": {
      "text/plain": [
       "'Haris'"
      ]
     },
     "execution_count": 106,
     "metadata": {},
     "output_type": "execute_result"
    }
   ],
   "source": [
    "name_funct(\"Haris\") # it is showing \"Ali\" because of the local nature"
   ]
  },
  {
   "cell_type": "code",
   "execution_count": 107,
   "metadata": {},
   "outputs": [
    {
     "data": {
      "text/plain": [
       "'Muhammad'"
      ]
     },
     "execution_count": 107,
     "metadata": {},
     "output_type": "execute_result"
    }
   ],
   "source": [
    "name # it is showing \"Muhammad\" because of the GLOBAL nature"
   ]
  },
  {
   "cell_type": "code",
   "execution_count": 108,
   "metadata": {},
   "outputs": [],
   "source": [
    "first_name = \"Muhammad\""
   ]
  },
  {
   "cell_type": "code",
   "execution_count": 109,
   "metadata": {},
   "outputs": [],
   "source": [
    "def name_full():\n",
    "    last_name = \"Haris\"\n",
    "    return first_name + \" \" + last_name"
   ]
  },
  {
   "cell_type": "code",
   "execution_count": 110,
   "metadata": {},
   "outputs": [
    {
     "data": {
      "text/plain": [
       "'Muhammad Haris'"
      ]
     },
     "execution_count": 110,
     "metadata": {},
     "output_type": "execute_result"
    }
   ],
   "source": [
    "name_full() # no need to define first_name again"
   ]
  },
  {
   "cell_type": "code",
   "execution_count": 112,
   "metadata": {},
   "outputs": [
    {
     "data": {
      "text/plain": [
       "'Haris Anis'"
      ]
     },
     "execution_count": 112,
     "metadata": {},
     "output_type": "execute_result"
    }
   ],
   "source": [
    "def name_full(): \n",
    "    last_name = \"Anis\"\n",
    "    first_name = \"Haris\"\n",
    "    return first_name + \" \" + last_name\n",
    "name_full()"
   ]
  },
  {
   "cell_type": "code",
   "execution_count": 113,
   "metadata": {},
   "outputs": [
    {
     "data": {
      "text/plain": [
       "'Muhammad'"
      ]
     },
     "execution_count": 113,
     "metadata": {},
     "output_type": "execute_result"
    }
   ],
   "source": [
    "first_name # whatever will happen to global variable inside the function will not affect the global variable outside of the function "
   ]
  },
  {
   "cell_type": "markdown",
   "metadata": {},
   "source": [
    "### functions within functions"
   ]
  },
  {
   "cell_type": "markdown",
   "metadata": {},
   "source": [
    "###### the function that is called must be earlier than the function that  calls it"
   ]
  },
  {
   "cell_type": "code",
   "execution_count": 114,
   "metadata": {},
   "outputs": [],
   "source": [
    "def profit_funct(sales,profit_rate): # calculating profit based on margin\n",
    "    def margin():  # function with in function\n",
    "        return profit_rate / 100\n",
    "    return int( sales * margin())   "
   ]
  },
  {
   "cell_type": "code",
   "execution_count": 115,
   "metadata": {},
   "outputs": [
    {
     "data": {
      "text/plain": [
       "4000"
      ]
     },
     "execution_count": 115,
     "metadata": {},
     "output_type": "execute_result"
    }
   ],
   "source": [
    "profit_funct(40000, 10)"
   ]
  },
  {
   "cell_type": "code",
   "execution_count": 116,
   "metadata": {},
   "outputs": [],
   "source": [
    "def now_say_it(content):\n",
    "    print(content)"
   ]
  },
  {
   "cell_type": "code",
   "execution_count": 117,
   "metadata": {},
   "outputs": [],
   "source": [
    "def say_something():\n",
    "    what_to_say = \"Hi\"\n",
    "    now_say_it(what_to_say)"
   ]
  },
  {
   "cell_type": "code",
   "execution_count": 118,
   "metadata": {},
   "outputs": [
    {
     "name": "stdout",
     "output_type": "stream",
     "text": [
      "Hi\n"
     ]
    }
   ],
   "source": [
    "say_something()"
   ]
  },
  {
   "cell_type": "markdown",
   "metadata": {},
   "source": [
    "### While loop"
   ]
  },
  {
   "cell_type": "code",
   "execution_count": 1,
   "metadata": {},
   "outputs": [],
   "source": [
    "users_dictionary = {\n",
    "    \"user1\" : \"Khulja Sim Sim\"\n",
    "    \n",
    "}"
   ]
  },
  {
   "cell_type": "code",
   "execution_count": 2,
   "metadata": {},
   "outputs": [
    {
     "name": "stdout",
     "output_type": "stream",
     "text": [
      "Enter the password : value\n",
      "Try Again : q\n",
      "Try Again : value:\n",
      "Try Again : value\n",
      "Try Again : q\n",
      "Try Again : Khulja Sim Sim\n",
      "Welcome! user1\n"
     ]
    }
   ],
   "source": [
    "user_input = \"\"\n",
    "while user_input != \"q\":\n",
    "    user_input = input(\"Enter the password : \")\n",
    "    for key,value in users_dictionary.items():\n",
    "        if user_input == value:\n",
    "            print(\"Khulja Sim Sim!\")\n",
    "            user_input = \"q\"\n",
    "        else:\n",
    "            user_input2 = input(\"Try Again : \")\n",
    "            while user_input != \"q\":\n",
    "                if user_input2 == value:\n",
    "                    print(\"Welcome!\", key)\n",
    "                    user_input = \"q\"\n",
    "                else:\n",
    "                    user_input2 = input(\"Try Again : \") \n",
    "        break\n",
    "#break"
   ]
  },
  {
   "cell_type": "markdown",
   "metadata": {},
   "source": [
    "### while loop: Setting a flag"
   ]
  },
  {
   "cell_type": "markdown",
   "metadata": {},
   "source": [
    "###### There are only two booleans i.e. True or False\n",
    "###### They must be capitalized"
   ]
  },
  {
   "cell_type": "code",
   "execution_count": 3,
   "metadata": {},
   "outputs": [
    {
     "data": {
      "text/plain": [
       "['100100', '100101', '100102', '100103', '100104', '100105']"
      ]
     },
     "execution_count": 3,
     "metadata": {},
     "output_type": "execute_result"
    }
   ],
   "source": [
    "number_list =[\"100100\",\"100101\",\"100102\",\"100103\",\"100104\",\"100105\"]\n",
    "number_list"
   ]
  },
  {
   "cell_type": "code",
   "execution_count": 4,
   "metadata": {},
   "outputs": [
    {
     "name": "stdout",
     "output_type": "stream",
     "text": [
      "Enter a student roll number, or q to quit:100101\n",
      "You are passed\n",
      "Enter a student roll number, or q to quit:100105\n",
      "You are passed\n",
      "Enter a student roll number, or q to quit:q\n"
     ]
    }
   ],
   "source": [
    "keep_looping = True\n",
    "while keep_looping == True:\n",
    "    number_input = input(\"Enter a student roll number, or q to quit:\")\n",
    "    if number_input != \"q\":\n",
    "        for i in number_list:\n",
    "            if number_input == i:\n",
    "                print(\"You are passed\")\n",
    "                break\n",
    "    else:\n",
    "        keep_looping = False"
   ]
  },
  {
   "cell_type": "markdown",
   "metadata": {},
   "source": [
    "### Classes\n",
    "###### standard filled copy of a class is called instance\n",
    "###### attribute - a chunck of information to be provided."
   ]
  },
  {
   "cell_type": "code",
   "execution_count": 5,
   "metadata": {},
   "outputs": [],
   "source": [
    "class Student():\n",
    "    def __init__ (self, first_name):\n",
    "        self.first_name = first_name"
   ]
  },
  {
   "cell_type": "code",
   "execution_count": 6,
   "metadata": {},
   "outputs": [],
   "source": [
    "pid4043 = Student(\"Muhammad\") # unique identifier needs to be different than all\n",
    "                                # It's the name of the instance\n",
    "                                    # the name is for first name"
   ]
  },
  {
   "cell_type": "code",
   "execution_count": 7,
   "metadata": {},
   "outputs": [],
   "source": [
    "class Student():\n",
    "    def __init__ (self, first_name,last_name,age):\n",
    "        self.first_name = first_name\n",
    "        self.last_name = last_name\n",
    "        self.age = age"
   ]
  },
  {
   "cell_type": "code",
   "execution_count": 8,
   "metadata": {},
   "outputs": [],
   "source": [
    "pid4043 = Student('Muhammad','Haris',24) # attribute works like positional arguments"
   ]
  },
  {
   "cell_type": "code",
   "execution_count": 9,
   "metadata": {},
   "outputs": [
    {
     "data": {
      "text/plain": [
       "24"
      ]
     },
     "execution_count": 9,
     "metadata": {},
     "output_type": "execute_result"
    }
   ],
   "source": [
    "insurance = bool \n",
    "student_age = pid4043.age\n",
    "student_age"
   ]
  },
  {
   "cell_type": "code",
   "execution_count": 10,
   "metadata": {},
   "outputs": [],
   "source": [
    "def minor_check(student_age, insurance):\n",
    "    if pid4043.age >= 21 and insurance == True:\n",
    "        print(\"Major with insurance\")\n",
    "    else:\n",
    "        prinnt(\"Minor\")\n",
    "    "
   ]
  },
  {
   "cell_type": "code",
   "execution_count": 11,
   "metadata": {},
   "outputs": [
    {
     "name": "stdout",
     "output_type": "stream",
     "text": [
      "Major with insurance\n"
     ]
    }
   ],
   "source": [
    "minor_check(student_age, insurance = True)  # Student_age is a positional arg following insurance is a keyword arg"
   ]
  },
  {
   "cell_type": "code",
   "execution_count": 12,
   "metadata": {},
   "outputs": [],
   "source": [
    "class Student():\n",
    "    def __init__ (self, first_name, last_name, age): # function in a class is called a method\n",
    "        self.first_name = first_name\n",
    "        self.last_name = last_name\n",
    "        self.age = age\n",
    "    \n",
    "    def minor_check(self):\n",
    "        if self.age >= 21:\n",
    "            print(\"Major\")\n",
    "        else:\n",
    "            print(\"Minor\")"
   ]
  },
  {
   "cell_type": "code",
   "execution_count": 13,
   "metadata": {},
   "outputs": [],
   "source": [
    "pid4043 = Student(\"Muhammad\",\"Haris\",24)"
   ]
  },
  {
   "cell_type": "code",
   "execution_count": 14,
   "metadata": {},
   "outputs": [
    {
     "name": "stdout",
     "output_type": "stream",
     "text": [
      "Major\n"
     ]
    }
   ],
   "source": [
    "pid4043.minor_check() # calling method"
   ]
  },
  {
   "cell_type": "code",
   "execution_count": 15,
   "metadata": {},
   "outputs": [
    {
     "data": {
      "text/plain": [
       "'Muhammad'"
      ]
     },
     "execution_count": 15,
     "metadata": {},
     "output_type": "execute_result"
    }
   ],
   "source": [
    "pid4043.first_name # targeting attribute of the instance"
   ]
  },
  {
   "cell_type": "code",
   "execution_count": 16,
   "metadata": {},
   "outputs": [],
   "source": [
    "class Student():\n",
    "    def __init__ (self, first_name, last_name, age): # function in a class is called a method\n",
    "        self.first_name = first_name\n",
    "        self.last_name = last_name\n",
    "        self.age = age\n",
    "    \n",
    "    def minor_check(self):\n",
    "        if self.age >= 21:\n",
    "            print(\"Major\")\n",
    "        else:\n",
    "            print(\"Minor\")\n",
    "    \n",
    "    def changed_last_name(self, new_last_name):\n",
    "        self.last_name = new_last_name\n",
    "        "
   ]
  },
  {
   "cell_type": "code",
   "execution_count": 17,
   "metadata": {},
   "outputs": [],
   "source": [
    "pid4047 = Student('Sue','Taleb', 61)"
   ]
  },
  {
   "cell_type": "code",
   "execution_count": 18,
   "metadata": {},
   "outputs": [
    {
     "data": {
      "text/plain": [
       "'Ortega'"
      ]
     },
     "execution_count": 18,
     "metadata": {},
     "output_type": "execute_result"
    }
   ],
   "source": [
    "pid4047.changed_last_name(\"Ortega\")\n",
    "pid4047.last_name"
   ]
  },
  {
   "cell_type": "code",
   "execution_count": null,
   "metadata": {},
   "outputs": [],
   "source": []
  }
 ],
 "metadata": {
  "kernelspec": {
   "display_name": "Python 3",
   "language": "python",
   "name": "python3"
  },
  "language_info": {
   "codemirror_mode": {
    "name": "ipython",
    "version": 3
   },
   "file_extension": ".py",
   "mimetype": "text/x-python",
   "name": "python",
   "nbconvert_exporter": "python",
   "pygments_lexer": "ipython3",
   "version": "3.7.1"
  }
 },
 "nbformat": 4,
 "nbformat_minor": 2
}
