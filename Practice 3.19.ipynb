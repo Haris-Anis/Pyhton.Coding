{
 "cells": [
  {
   "cell_type": "markdown",
   "metadata": {},
   "source": [
    "# TESTING SET OF CONDITION"
   ]
  },
  {
   "cell_type": "code",
   "execution_count": 5,
   "metadata": {},
   "outputs": [
    {
     "name": "stdout",
     "output_type": "stream",
     "text": [
      "plz provide weight in pounds 788\n",
      " plz provide time in seconds 4\n",
      "try to recruit him\n",
      "Go back\n"
     ]
    }
   ],
   "source": [
    "#status = \" \"\n",
    "weight = int(input(\"plz provide weight in pounds \"))\n",
    "time = int(input(\" plz provide time in seconds \"))\n",
    "if weight >= 300 and time <= 6:\n",
    "    status = \"try to recruit him\"\n",
    "    print(status)\n",
    "print(\"Go back\")    "
   ]
  },
  {
   "cell_type": "markdown",
   "metadata": {},
   "source": []
  },
  {
   "cell_type": "code",
   "execution_count": null,
   "metadata": {},
   "outputs": [],
   "source": []
  },
  {
   "cell_type": "code",
   "execution_count": null,
   "metadata": {},
   "outputs": [],
   "source": []
  },
  {
   "cell_type": "markdown",
   "metadata": {},
   "source": [
    "# If ELSE AND ELIF CONDITIONS"
   ]
  },
  {
   "cell_type": "code",
   "execution_count": 1,
   "metadata": {},
   "outputs": [
    {
     "name": "stdout",
     "output_type": "stream",
     "text": [
      "Select operation.\n",
      "1.Add\n",
      "2.Subtract\n",
      "3.Multiply\n",
      "4.Divide\n",
      "Enter choice(1/2/3/4):1\n",
      "Enter first number: 3\n",
      "Enter second number: 4\n",
      "3 + 4 = 7\n"
     ]
    }
   ],
   "source": [
    "# Program make a simple calculator that can add, subtract, multiply and divide using functions\n",
    "\n",
    "# This function adds two numbers \n",
    "def add(x, y):\n",
    "    return x + y\n",
    "\n",
    "# This function subtracts two numbers \n",
    "def subtract(x, y):\n",
    "    return x - y\n",
    "\n",
    "# This function multiplies two numbers\n",
    "def multiply(x, y):\n",
    "    return x * y\n",
    "\n",
    "# This function divides two numbers\n",
    "def divide(x, y):\n",
    "    return x / y\n",
    "\n",
    "print(\"Select operation.\")\n",
    "print(\"1.Add\")\n",
    "print(\"2.Subtract\")\n",
    "print(\"3.Multiply\")\n",
    "print(\"4.Divide\")\n",
    "\n",
    "# Take input from the user \n",
    "choice = input(\"Enter choice(1/2/3/4):\")\n",
    "\n",
    "num1 = int(input(\"Enter first number: \"))\n",
    "num2 = int(input(\"Enter second number: \"))\n",
    "\n",
    "if choice == '1':\n",
    "    print(num1,\"+\",num2,\"=\", add(num1,num2))\n",
    "\n",
    "elif choice == '2':\n",
    "    print(num1,\"-\",num2,\"=\", subtract(num1,num2))\n",
    "\n",
    "elif choice == '3':\n",
    "    print(num1,\"*\",num2,\"=\", multiply(num1,num2))\n",
    "\n",
    "elif choice == '4':\n",
    "    print(num1,\"/\",num2,\"=\", divide(num1,num2))\n",
    "else:\n",
    "    print(\"Invalid input\")\n"
   ]
  },
  {
   "cell_type": "code",
   "execution_count": null,
   "metadata": {},
   "outputs": [
    {
     "name": "stdout",
     "output_type": "stream",
     "text": [
      "Please enter the first number >>> 23\n",
      "Please enter the second number >>> 32\n",
      "\n",
      "9.                                    Menu\n",
      "10.\n",
      "11. What would you like to do with the numbers?\n",
      "12.\n",
      "13. Press 1 to add them.\n",
      "14. Press 2 to subtract the second number from the first.\n",
      "15. Press 3 to divide the first number by the second.\n",
      "16. Press 4 to multiply them.\n",
      "17.     \n",
      "Make your selection now >>> 1\n",
      "55.0\n"
     ]
    }
   ],
   "source": [
    " '''A simple calculator program\n",
    "2. This program accepts 2 numbers and then carries out a calculation\n",
    "3. on them'''\n",
    "number1 = float(input (\"Please enter the first number >>> \"))\n",
    "number2 = float(input (\"Please enter the second number >>> \"))\n",
    "print(\n",
    "     '''\n",
    "9.                                    Menu\n",
    "10.\n",
    "11. What would you like to do with the numbers?\n",
    "12.\n",
    "13. Press 1 to add them.\n",
    "14. Press 2 to subtract the second number from the first.\n",
    "15. Press 3 to divide the first number by the second.\n",
    "16. Press 4 to multiply them.\n",
    "17.     '''\n",
    "     )\n",
    "\n",
    "selection = int(input(\"Make your selection now >>> \"))\n",
    " \n",
    "if selection == 1:\n",
    "    result = number1 + number2\n",
    "elif selection == 2:\n",
    "    result = number1 - number2\n",
    "elif selection == 3:\n",
    "    result = number1 / number2\n",
    "elif selection == 4:\n",
    "    result = number1 * number2\n",
    "else:\n",
    "    result = \"Sorry, that's not a valid selection\"\n",
    "\n",
    "print(result)\n",
    "input(\"\\n\\nPress <ENTER> to quit ...\")"
   ]
  },
  {
   "cell_type": "code",
   "execution_count": null,
   "metadata": {},
   "outputs": [],
   "source": []
  }
 ],
 "metadata": {
  "kernelspec": {
   "display_name": "Python 3",
   "language": "python",
   "name": "python3"
  },
  "language_info": {
   "codemirror_mode": {
    "name": "ipython",
    "version": 3
   },
   "file_extension": ".py",
   "mimetype": "text/x-python",
   "name": "python",
   "nbconvert_exporter": "python",
   "pygments_lexer": "ipython3",
   "version": "3.7.1"
  }
 },
 "nbformat": 4,
 "nbformat_minor": 2
}
